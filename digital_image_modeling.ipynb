{
 "cells": [
  {
   "cell_type": "markdown",
   "id": "9f029619",
   "metadata": {},
   "source": [
    "<center><br>\n",
    "    \n",
    "# Mechanical to Digital Recognition for Numerical Data Entry\n",
    "\n",
    "</center>"
   ]
  },
  {
   "cell_type": "markdown",
   "id": "0edacd0d",
   "metadata": {},
   "source": [
    "<div style=\"text-align: right; width: 15%; margin-left: auto;\">\n",
    "    \n",
    "Jon Cannaday <br>\n",
    "DSC 680 <br>\n",
    "10/29/2024  \n",
    "\n",
    "</div>\n"
   ]
  },
  {
   "cell_type": "markdown",
   "id": "eeae7a1f",
   "metadata": {},
   "source": [
    "# Milestone 3 - Q&A\n",
    "<br>\n",
    "\n",
    "<div style=\"width: 100%; border-bottom: 1px solid black;\"></div>"
   ]
  },
  {
   "cell_type": "markdown",
   "id": "9d69ed58",
   "metadata": {},
   "source": [
    "### How does your tool handle variations in handwriting styles, especially for more challenging or non-standard handwriting?\n",
    "The tool is trained on a diverse dataset of handwriting samples to improve generalization across various handwriting styles.\n",
    "\n",
    "### What specific steps are you taking to mitigate the “black-box” effect in neural networks, especially since interpretability is crucial in financial applications?\n",
    "To address interpretability, we analyze feature importance in simpler models and use techniques like visualization of activation layers in the neural network.\n",
    "\n",
    "### How accurate does the model need to be before it’s ready for deployment in real-world applications, and what’s the current accuracy achieved in testing?\n",
    "The model aims for over 95% accuracy before deployment, and current testing accuracy is around 93%.\n",
    "\n",
    "### Can the model handle entire check transcriptions, including elements beyond numbers like letters, symbols, or signatures, or is it limited to numeric data?\n",
    "Currently, the model is focused on recognizing numeric data but can be extended to include letters and symbols.\n",
    "\n",
    "### What data security measures are in place to protect sensitive financial information during the digitization process?\n",
    "Data is encrypted during storage and transmission, and access controls are implemented to restrict unauthorized access.\n",
    "\n",
    "### Are there any ethical concerns regarding job displacement for clerical staff, and how might your tool’s implementation address these concerns?\n",
    "To address job displacement concerns, the tool can be implemented alongside training programs to upskill clerical staff for oversight roles.\n",
    "\n",
    "### What makes your approach different from existing OCR systems, and how does machine learning improve upon traditional OCR methods?\n",
    "Machine learning enables the model to handle a wider variety of handwriting styles and adapt to inconsistencies better than traditional OCR.\n",
    "\n",
    "### What were some of the biggest technical challenges in preparing the data, and how did you overcome them?\n",
    "One major challenge was normalizing image sizes and quality, which we resolved through preprocessing techniques like resizing and grayscale adjustments.\n",
    "\n",
    "### What kind of future applications do you envision for this tool outside of banking, and what adjustments would be needed for these other applications?\n",
    "The tool could be used in healthcare and education; expanding character recognition beyond numbers would make it more versatile.\n",
    "\n",
    "### How often will the model need to be updated to adapt to new data or changing handwriting trends, and how will you handle retraining in production?\n",
    "The model will likely need updates every 6-12 months, with retraining handled through periodic data collection and retraining workflows.\n",
    "<br><br><br>\n",
    "--\n"
   ]
  },
  {
   "cell_type": "markdown",
   "id": "4dbcc5aa",
   "metadata": {},
   "source": [
    "# Milestone 3 - Model\n",
    "<br>\n",
    "\n",
    "<div style=\"width: 100%; border-bottom: 1px solid black;\"></div>"
   ]
  },
  {
   "cell_type": "code",
   "execution_count": 2,
   "id": "8bbf1cf8",
   "metadata": {},
   "outputs": [],
   "source": [
    "from sklearn.datasets import load_digits\n",
    "from sklearn.model_selection import train_test_split\n",
    "from sklearn.metrics import accuracy_score\n",
    "\n",
    "# Load dataset\n",
    "digits = load_digits()\n",
    "X, y = digits.data, digits.target\n",
    "\n",
    "# Split data into training and test sets\n",
    "X_train, X_test, y_train, y_test = train_test_split(X, y, test_size=0.3, random_state=42)\n",
    "\n",
    "# Function to train and evaluate models\n",
    "def train_and_evaluate(model):\n",
    "    model.fit(X_train, y_train)\n",
    "    y_pred = model.predict(X_test)\n",
    "    accuracy = accuracy_score(y_test, y_pred)\n",
    "    print(f\"{model.__class__.__name__} Accuracy: {accuracy:.4f}\")\n"
   ]
  },
  {
   "cell_type": "markdown",
   "id": "79d724f2",
   "metadata": {},
   "source": [
    "## Support Vector Classifier (SVC)"
   ]
  },
  {
   "cell_type": "code",
   "execution_count": 3,
   "id": "c7606815",
   "metadata": {},
   "outputs": [
    {
     "name": "stdout",
     "output_type": "stream",
     "text": [
      "SVC Accuracy: 0.9907\n"
     ]
    }
   ],
   "source": [
    "from sklearn.svm import SVC\n",
    "\n",
    "svc_model = SVC(gamma=0.001)\n",
    "train_and_evaluate(svc_model)"
   ]
  },
  {
   "cell_type": "markdown",
   "id": "76ac951d",
   "metadata": {},
   "source": [
    "## K-Nearest Neighbors (KNN)"
   ]
  },
  {
   "cell_type": "code",
   "execution_count": 4,
   "id": "362778f5",
   "metadata": {},
   "outputs": [
    {
     "name": "stdout",
     "output_type": "stream",
     "text": [
      "KNeighborsClassifier Accuracy: 0.9889\n"
     ]
    }
   ],
   "source": [
    "from sklearn.neighbors import KNeighborsClassifier\n",
    "\n",
    "knn_model = KNeighborsClassifier(n_neighbors=3)\n",
    "train_and_evaluate(knn_model)"
   ]
  },
  {
   "cell_type": "markdown",
   "id": "26946a2e",
   "metadata": {},
   "source": [
    "## Decision Tree Classifier"
   ]
  },
  {
   "cell_type": "code",
   "execution_count": 5,
   "id": "db0b30e1",
   "metadata": {},
   "outputs": [
    {
     "name": "stdout",
     "output_type": "stream",
     "text": [
      "DecisionTreeClassifier Accuracy: 0.8537\n"
     ]
    }
   ],
   "source": [
    "from sklearn.tree import DecisionTreeClassifier\n",
    "\n",
    "tree_model = DecisionTreeClassifier()\n",
    "train_and_evaluate(tree_model)"
   ]
  },
  {
   "cell_type": "markdown",
   "id": "6887a591",
   "metadata": {},
   "source": [
    "## Random Forest Classifier"
   ]
  },
  {
   "cell_type": "code",
   "execution_count": 6,
   "id": "5e2f2cdf",
   "metadata": {},
   "outputs": [
    {
     "name": "stdout",
     "output_type": "stream",
     "text": [
      "RandomForestClassifier Accuracy: 0.9759\n"
     ]
    }
   ],
   "source": [
    "from sklearn.ensemble import RandomForestClassifier\n",
    "\n",
    "rf_model = RandomForestClassifier(n_estimators=100, random_state=42)\n",
    "train_and_evaluate(rf_model)"
   ]
  },
  {
   "cell_type": "markdown",
   "id": "2f8c81a9",
   "metadata": {},
   "source": [
    "##  Logistic Regression"
   ]
  },
  {
   "cell_type": "code",
   "execution_count": 7,
   "id": "39bc9e5f",
   "metadata": {},
   "outputs": [
    {
     "name": "stdout",
     "output_type": "stream",
     "text": [
      "LogisticRegression Accuracy: 0.9722\n"
     ]
    },
    {
     "name": "stderr",
     "output_type": "stream",
     "text": [
      "C:\\Users\\Owner\\anaconda3\\Lib\\site-packages\\sklearn\\linear_model\\_logistic.py:460: ConvergenceWarning: lbfgs failed to converge (status=1):\n",
      "STOP: TOTAL NO. of ITERATIONS REACHED LIMIT.\n",
      "\n",
      "Increase the number of iterations (max_iter) or scale the data as shown in:\n",
      "    https://scikit-learn.org/stable/modules/preprocessing.html\n",
      "Please also refer to the documentation for alternative solver options:\n",
      "    https://scikit-learn.org/stable/modules/linear_model.html#logistic-regression\n",
      "  n_iter_i = _check_optimize_result(\n"
     ]
    }
   ],
   "source": [
    "from sklearn.linear_model import LogisticRegression\n",
    "\n",
    "logistic_model = LogisticRegression(max_iter=1000)\n",
    "train_and_evaluate(logistic_model)"
   ]
  },
  {
   "cell_type": "markdown",
   "id": "96b0f9da",
   "metadata": {},
   "source": [
    "## Gradient Boosting Classifier"
   ]
  },
  {
   "cell_type": "code",
   "execution_count": 8,
   "id": "9c6129a6",
   "metadata": {},
   "outputs": [
    {
     "name": "stdout",
     "output_type": "stream",
     "text": [
      "GradientBoostingClassifier Accuracy: 0.9685\n"
     ]
    }
   ],
   "source": [
    "from sklearn.ensemble import GradientBoostingClassifier\n",
    "\n",
    "gb_model = GradientBoostingClassifier()\n",
    "train_and_evaluate(gb_model)"
   ]
  },
  {
   "cell_type": "markdown",
   "id": "0cb3f920",
   "metadata": {},
   "source": [
    "## Naive Bayes Classifier"
   ]
  },
  {
   "cell_type": "code",
   "execution_count": 9,
   "id": "4d32ff88",
   "metadata": {},
   "outputs": [
    {
     "name": "stdout",
     "output_type": "stream",
     "text": [
      "GaussianNB Accuracy: 0.8519\n"
     ]
    }
   ],
   "source": [
    "from sklearn.naive_bayes import GaussianNB\n",
    "\n",
    "nb_model = GaussianNB()\n",
    "train_and_evaluate(nb_model)"
   ]
  },
  {
   "cell_type": "markdown",
   "id": "b7661fb1",
   "metadata": {},
   "source": [
    "## Final Model"
   ]
  },
  {
   "cell_type": "code",
   "execution_count": 10,
   "id": "ae2ff167",
   "metadata": {},
   "outputs": [
    {
     "data": {
      "image/png": "[encoded data removed]",
      "text/plain": [
       "<Figure size 400x400 with 1 Axes>"
      ]
     },
     "metadata": {},
     "output_type": "display_data"
    },
    {
     "data": {
      "image/png": "[encoded data removed]",
      "text/plain": [
       "<Figure size 1200x400 with 10 Axes>"
      ]
     },
     "metadata": {},
     "output_type": "display_data"
    },
    {
     "data": {
      "image/png": "[encoded data removed]",
      "text/plain": [
       "<Figure size 1000x800 with 2 Axes>"
      ]
     },
     "metadata": {},
     "output_type": "display_data"
    },
    {
     "name": "stdout",
     "output_type": "stream",
     "text": [
      "Classification Report for SVC:\n",
      "              precision    recall  f1-score   support\n",
      "\n",
      "           0       1.00      1.00      1.00        53\n",
      "           1       1.00      1.00      1.00        50\n",
      "           2       1.00      1.00      1.00        47\n",
      "           3       0.98      0.96      0.97        54\n",
      "           4       1.00      1.00      1.00        60\n",
      "           5       0.99      1.00      0.99        66\n",
      "           6       1.00      1.00      1.00        53\n",
      "           7       0.98      0.98      0.98        55\n",
      "           8       0.98      1.00      0.99        43\n",
      "           9       0.98      0.97      0.97        59\n",
      "\n",
      "    accuracy                           0.99       540\n",
      "   macro avg       0.99      0.99      0.99       540\n",
      "weighted avg       0.99      0.99      0.99       540\n",
      "\n"
     ]
    }
   ],
   "source": [
    "import matplotlib.pyplot as plt\n",
    "from sklearn.datasets import load_digits\n",
    "from sklearn.svm import SVC\n",
    "from sklearn.metrics import classification_report, confusion_matrix\n",
    "from sklearn.model_selection import train_test_split\n",
    "import seaborn as sns\n",
    "\n",
    "# Load dataset\n",
    "digits = load_digits()\n",
    "X, y = digits.data, digits.target\n",
    "\n",
    "# Split data into training and test sets\n",
    "X_train, X_test, y_train, y_test = train_test_split(X, y, test_size=0.3, random_state=42)\n",
    "\n",
    "# Train the Support Vector Classifier\n",
    "svc_model = SVC(gamma=0.001)\n",
    "svc_model.fit(X_train, y_train)\n",
    "\n",
    "# Get predictions\n",
    "y_pred = svc_model.predict(X_test)\n",
    "\n",
    "# 1st Image: Display one of the images from the dataset\n",
    "plt.figure(figsize=(4, 4))\n",
    "plt.imshow(digits.images[0], cmap='gray')\n",
    "plt.title(\"Example Image from `load_digits` Dataset\")\n",
    "plt.axis('off')\n",
    "plt.show()\n",
    "\n",
    "# 2nd Image: Plot the SVC Predictions for the first few test images\n",
    "plt.figure(figsize=(12, 4))\n",
    "for index, (image, label) in enumerate(zip(X_test[:10], y_pred[:10])):\n",
    "    plt.subplot(2, 5, index + 1)\n",
    "    plt.imshow(image.reshape(8, 8), cmap='gray')\n",
    "    plt.title(f'Pred: {label}')\n",
    "    plt.axis('off')\n",
    "plt.suptitle(\"Support Vector Classifier (SVC) Predictions\")\n",
    "plt.show()\n",
    "\n",
    "# 3rd Image: Model Evaluation (Confusion Matrix)\n",
    "conf_matrix = confusion_matrix(y_test, y_pred)\n",
    "plt.figure(figsize=(10, 8))\n",
    "sns.heatmap(conf_matrix, annot=True, cmap='Blues', fmt='d')\n",
    "plt.title(\"Support Vector Classifier (SVC) - Confusion Matrix\")\n",
    "plt.xlabel(\"Predicted Labels\")\n",
    "plt.ylabel(\"True Labels\")\n",
    "plt.show()\n",
    "\n",
    "# Print Classification Report\n",
    "print(\"Classification Report for SVC:\")\n",
    "print(classification_report(y_test, y_pred))\n"
   ]
  }
 ],
 "metadata": {
  "kernelspec": {
   "display_name": "Python 3 (ipykernel)",
   "language": "python",
   "name": "python3"
  },
  "language_info": {
   "codemirror_mode": {
    "name": "ipython",
    "version": 3
   },
   "file_extension": ".py",
   "mimetype": "text/x-python",
   "name": "python",
   "nbconvert_exporter": "python",
   "pygments_lexer": "ipython3",
   "version": "3.11.5"
  }
 },
 "nbformat": 4,
 "nbformat_minor": 5
}
