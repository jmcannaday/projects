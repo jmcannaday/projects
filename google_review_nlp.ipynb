{
 "cells": [
  {
   "cell_type": "markdown",
   "id": "9f029619",
   "metadata": {},
   "source": [
    "<br>\n",
    "<center>\n",
    "\n",
    "# Assignments for Week 6\n",
    "\n",
    "</center>"
   ]
  },
  {
   "cell_type": "markdown",
   "id": "0edacd0d",
   "metadata": {},
   "source": [
    "<div style=\"text-align: right; width: 15%; margin-left: auto;\">\n",
    "    \n",
    "Jon Cannaday <br>\n",
    "DSC 550 <br>\n",
    "4/19/2024  \n",
    "\n",
    "</div>\n"
   ]
  },
  {
   "cell_type": "markdown",
   "id": "4fd8bb40",
   "metadata": {},
   "source": [
    "## Part 1: Identify Problem\n",
    "<br>\n",
    "<div style=\"width: 100%; border-bottom: 1px solid black;\"></div>"
   ]
  },
  {
   "cell_type": "markdown",
   "id": "2da5ef4e",
   "metadata": {},
   "source": [
    "Theater reviews offer valuable insights into audience perceptions and preferences, but analyzing thousands of reviews from numerous theaters poses a significant challenge. Extracting meaningful information from such vast amounts of text data is time-consuming, expensive, and prone to errors. Therefore, the need arises for a mechanized approach to accurately log and summarize theater reviews to understand audience concerns, preferances, and identify trends across different theaters or regions."
   ]
  },
  {
   "cell_type": "markdown",
   "id": "28361ceb",
   "metadata": {},
   "source": [
    "## Part 2: Define Target\n",
    "<br>\n",
    "<div style=\"width: 100%; border-bottom: 1px solid black;\"></div>"
   ]
  },
  {
   "cell_type": "markdown",
   "id": "4067a094",
   "metadata": {},
   "source": [
    "The objective is to vectorize theater reviews, transforming them into numerical representations that can be analyzed using machine learning techniques. By vectorizing the reviews, we aim to capture the essence of each review in a structured format, enabling efficient analysis and interpretation."
   ]
  },
  {
   "cell_type": "markdown",
   "id": "b76f597e",
   "metadata": {},
   "source": [
    "## Part 3: Analize Data\n",
    "<br>\n",
    "<div style=\"width: 100%; border-bottom: 1px solid black;\"></div>"
   ]
  },
  {
   "cell_type": "markdown",
   "id": "a83c731f",
   "metadata": {},
   "source": [
    "Libraries"
   ]
  },
  {
   "cell_type": "code",
   "execution_count": 1,
   "id": "de27e22c",
   "metadata": {},
   "outputs": [],
   "source": [
    "import matplotlib.pyplot as plt\n",
    "import pandas as pd\n",
    "import numpy as np"
   ]
  },
  {
   "cell_type": "markdown",
   "id": "34448f14",
   "metadata": {},
   "source": [
    "Connection"
   ]
  },
  {
   "cell_type": "code",
   "execution_count": 2,
   "id": "3f08a43d",
   "metadata": {},
   "outputs": [],
   "source": [
    "file = r'C:\\Users\\Owner\\OneDrive\\Desktop\\DataScience\\2024_Spring_DataMining\\Reviews.xlsx'"
   ]
  },
  {
   "cell_type": "markdown",
   "id": "42f46a90",
   "metadata": {},
   "source": [
    "Data Objects"
   ]
  },
  {
   "cell_type": "code",
   "execution_count": 3,
   "id": "437a943d",
   "metadata": {},
   "outputs": [],
   "source": [
    "data = pd.DataFrame(pd.read_excel(file))"
   ]
  },
  {
   "cell_type": "markdown",
   "id": "1ce35b65",
   "metadata": {},
   "source": [
    "Table Structure"
   ]
  },
  {
   "cell_type": "code",
   "execution_count": 4,
   "id": "39fd4a10",
   "metadata": {},
   "outputs": [
    {
     "name": "stdout",
     "output_type": "stream",
     "text": [
      "<class 'pandas.core.frame.DataFrame'>\n",
      "RangeIndex: 4864 entries, 0 to 4863\n",
      "Data columns (total 2 columns):\n",
      " #   Column  Non-Null Count  Dtype \n",
      "---  ------  --------------  ----- \n",
      " 0   Review  2607 non-null   object\n",
      " 1   Rating  4864 non-null   int64 \n",
      "dtypes: int64(1), object(1)\n",
      "memory usage: 76.1+ KB\n"
     ]
    }
   ],
   "source": [
    "data.info()"
   ]
  },
  {
   "cell_type": "markdown",
   "id": "8c325d60",
   "metadata": {},
   "source": [
    "Descriptive stats"
   ]
  },
  {
   "cell_type": "code",
   "execution_count": 5,
   "id": "e7c8df1b",
   "metadata": {},
   "outputs": [
    {
     "data": {
      "text/html": [
       "<div>\n",
       "<style scoped>\n",
       "    .dataframe tbody tr th:only-of-type {\n",
       "        vertical-align: middle;\n",
       "    }\n",
       "\n",
       "    .dataframe tbody tr th {\n",
       "        vertical-align: top;\n",
       "    }\n",
       "\n",
       "    .dataframe thead th {\n",
       "        text-align: right;\n",
       "    }\n",
       "</style>\n",
       "<table border=\"1\" class=\"dataframe\">\n",
       "  <thead>\n",
       "    <tr style=\"text-align: right;\">\n",
       "      <th></th>\n",
       "      <th>Review</th>\n",
       "      <th>Rating</th>\n",
       "    </tr>\n",
       "  </thead>\n",
       "  <tbody>\n",
       "    <tr>\n",
       "      <th>count</th>\n",
       "      <td>2607</td>\n",
       "      <td>4864.000000</td>\n",
       "    </tr>\n",
       "    <tr>\n",
       "      <th>unique</th>\n",
       "      <td>2540</td>\n",
       "      <td>NaN</td>\n",
       "    </tr>\n",
       "    <tr>\n",
       "      <th>top</th>\n",
       "      <td>Love it</td>\n",
       "      <td>NaN</td>\n",
       "    </tr>\n",
       "    <tr>\n",
       "      <th>freq</th>\n",
       "      <td>5</td>\n",
       "      <td>NaN</td>\n",
       "    </tr>\n",
       "    <tr>\n",
       "      <th>mean</th>\n",
       "      <td>NaN</td>\n",
       "      <td>4.376439</td>\n",
       "    </tr>\n",
       "    <tr>\n",
       "      <th>std</th>\n",
       "      <td>NaN</td>\n",
       "      <td>1.102195</td>\n",
       "    </tr>\n",
       "    <tr>\n",
       "      <th>min</th>\n",
       "      <td>NaN</td>\n",
       "      <td>1.000000</td>\n",
       "    </tr>\n",
       "    <tr>\n",
       "      <th>25%</th>\n",
       "      <td>NaN</td>\n",
       "      <td>4.000000</td>\n",
       "    </tr>\n",
       "    <tr>\n",
       "      <th>50%</th>\n",
       "      <td>NaN</td>\n",
       "      <td>5.000000</td>\n",
       "    </tr>\n",
       "    <tr>\n",
       "      <th>75%</th>\n",
       "      <td>NaN</td>\n",
       "      <td>5.000000</td>\n",
       "    </tr>\n",
       "    <tr>\n",
       "      <th>max</th>\n",
       "      <td>NaN</td>\n",
       "      <td>5.000000</td>\n",
       "    </tr>\n",
       "  </tbody>\n",
       "</table>\n",
       "</div>"
      ],
      "text/plain": [
       "         Review       Rating\n",
       "count      2607  4864.000000\n",
       "unique     2540          NaN\n",
       "top     Love it          NaN\n",
       "freq          5          NaN\n",
       "mean        NaN     4.376439\n",
       "std         NaN     1.102195\n",
       "min         NaN     1.000000\n",
       "25%         NaN     4.000000\n",
       "50%         NaN     5.000000\n",
       "75%         NaN     5.000000\n",
       "max         NaN     5.000000"
      ]
     },
     "execution_count": 5,
     "metadata": {},
     "output_type": "execute_result"
    }
   ],
   "source": [
    "data.describe(include='all')"
   ]
  },
  {
   "cell_type": "markdown",
   "id": "dddb001e",
   "metadata": {},
   "source": [
    "Identify Nulls"
   ]
  },
  {
   "cell_type": "code",
   "execution_count": 6,
   "id": "8819017d",
   "metadata": {},
   "outputs": [],
   "source": [
    "# Replace blanks with nulls\n",
    "data.replace('', np.nan, inplace=True)"
   ]
  },
  {
   "cell_type": "code",
   "execution_count": 7,
   "id": "20dc946e",
   "metadata": {},
   "outputs": [
    {
     "name": "stdout",
     "output_type": "stream",
     "text": [
      "Nulls in Review column: 2257\n",
      "Nulls in Rating column: 0\n"
     ]
    }
   ],
   "source": [
    "# Count nulls\n",
    "nulls_review = data['Review'].isna().sum()\n",
    "nulls_rating = data['Rating'].isna().sum()\n",
    "\n",
    "print(\"Nulls in Review column:\", nulls_review)\n",
    "print(\"Nulls in Rating column:\", nulls_rating)"
   ]
  },
  {
   "cell_type": "markdown",
   "id": "0b430ca8",
   "metadata": {},
   "source": [
    "When there is not a review, how does it rate?"
   ]
  },
  {
   "cell_type": "markdown",
   "id": "281e88d2",
   "metadata": {},
   "source": [
    "Set up for a hypothesis test to see if the people who do not leave a review tend to give better ratings than those who do give reviews."
   ]
  },
  {
   "cell_type": "code",
   "execution_count": 8,
   "id": "aba3f532",
   "metadata": {},
   "outputs": [],
   "source": [
    "null_data = data[data['Review'].isna()]"
   ]
  },
  {
   "cell_type": "code",
   "execution_count": 9,
   "id": "e3ea851a",
   "metadata": {},
   "outputs": [
    {
     "data": {
      "image/png": "[encoded data removed]",
      "text/plain": [
       "<Figure size 640x480 with 1 Axes>"
      ]
     },
     "metadata": {},
     "output_type": "display_data"
    }
   ],
   "source": [
    "# Histogram\n",
    "plt.hist(null_data['Rating'], bins=5, color='skyblue', edgecolor='black')\n",
    "\n",
    "# Lable\n",
    "plt.xlabel('Rating')\n",
    "plt.ylabel('Count')\n",
    "plt.title('Null Review Ratings')\n",
    "\n",
    "# Plot\n",
    "plt.show()"
   ]
  },
  {
   "cell_type": "markdown",
   "id": "91added8",
   "metadata": {},
   "source": [
    "Looks like the non review ratings are negativly skewed."
   ]
  },
  {
   "cell_type": "markdown",
   "id": "9c5f1793",
   "metadata": {},
   "source": [
    "When there is a review, how does it rate?"
   ]
  },
  {
   "cell_type": "markdown",
   "id": "93d805e8",
   "metadata": {},
   "source": [
    "Will use this data with actual reviews to train the model to allocate words to ratings."
   ]
  },
  {
   "cell_type": "code",
   "execution_count": 10,
   "id": "99edc785",
   "metadata": {},
   "outputs": [],
   "source": [
    "valid_data = data[data['Review'].notna()]"
   ]
  },
  {
   "cell_type": "code",
   "execution_count": 11,
   "id": "fb53d156",
   "metadata": {},
   "outputs": [
    {
     "data": {
      "image/png": "[encoded data removed]",
      "text/plain": [
       "<Figure size 640x480 with 1 Axes>"
      ]
     },
     "metadata": {},
     "output_type": "display_data"
    }
   ],
   "source": [
    "# Histogram\n",
    "plt.hist(valid_data['Rating'], bins=5, color='skyblue', edgecolor='black')\n",
    "\n",
    "# Lables\n",
    "plt.xlabel('Rating')\n",
    "plt.ylabel('Count')\n",
    "plt.title('Valid Ratings Reviews')\n",
    "\n",
    "# Plot\n",
    "plt.show()"
   ]
  },
  {
   "cell_type": "markdown",
   "id": "fd4f8071",
   "metadata": {},
   "source": [
    "Similar to the non review section there is a negative skew but more moderate than the last group."
   ]
  },
  {
   "cell_type": "markdown",
   "id": "0cb960e1",
   "metadata": {},
   "source": [
    "Outliers"
   ]
  },
  {
   "cell_type": "markdown",
   "id": "6e07330a",
   "metadata": {},
   "source": [
    "Want to be sure that the rating numbers do not fall out of the expected 1-5 range."
   ]
  },
  {
   "cell_type": "code",
   "execution_count": 20,
   "id": "a083e78b",
   "metadata": {},
   "outputs": [
    {
     "data": {
      "image/png": "[encoded data removed]",
      "text/plain": [
       "<Figure size 640x480 with 1 Axes>"
      ]
     },
     "metadata": {},
     "output_type": "display_data"
    }
   ],
   "source": [
    "# Box Plot\n",
    "data.boxplot()\n",
    "\n",
    "# Title\n",
    "plt.title('Theater Reviews')\n",
    "\n",
    "# Plot\n",
    "plt.show()"
   ]
  },
  {
   "cell_type": "markdown",
   "id": "7e66227d",
   "metadata": {},
   "source": [
    "The ratings fall within expected ranges with the bulk of the data on the higher (5) end further stressing the negative skew."
   ]
  },
  {
   "cell_type": "code",
   "execution_count": 13,
   "id": "082f86cb",
   "metadata": {},
   "outputs": [
    {
     "data": {
      "text/html": [
       "<div>\n",
       "<style scoped>\n",
       "    .dataframe tbody tr th:only-of-type {\n",
       "        vertical-align: middle;\n",
       "    }\n",
       "\n",
       "    .dataframe tbody tr th {\n",
       "        vertical-align: top;\n",
       "    }\n",
       "\n",
       "    .dataframe thead th {\n",
       "        text-align: right;\n",
       "    }\n",
       "</style>\n",
       "<table border=\"1\" class=\"dataframe\">\n",
       "  <thead>\n",
       "    <tr style=\"text-align: right;\">\n",
       "      <th></th>\n",
       "      <th>Rating</th>\n",
       "    </tr>\n",
       "  </thead>\n",
       "  <tbody>\n",
       "    <tr>\n",
       "      <th>count</th>\n",
       "      <td>4864.000000</td>\n",
       "    </tr>\n",
       "    <tr>\n",
       "      <th>mean</th>\n",
       "      <td>4.376439</td>\n",
       "    </tr>\n",
       "    <tr>\n",
       "      <th>std</th>\n",
       "      <td>1.102195</td>\n",
       "    </tr>\n",
       "    <tr>\n",
       "      <th>min</th>\n",
       "      <td>1.000000</td>\n",
       "    </tr>\n",
       "    <tr>\n",
       "      <th>25%</th>\n",
       "      <td>4.000000</td>\n",
       "    </tr>\n",
       "    <tr>\n",
       "      <th>50%</th>\n",
       "      <td>5.000000</td>\n",
       "    </tr>\n",
       "    <tr>\n",
       "      <th>75%</th>\n",
       "      <td>5.000000</td>\n",
       "    </tr>\n",
       "    <tr>\n",
       "      <th>max</th>\n",
       "      <td>5.000000</td>\n",
       "    </tr>\n",
       "  </tbody>\n",
       "</table>\n",
       "</div>"
      ],
      "text/plain": [
       "            Rating\n",
       "count  4864.000000\n",
       "mean      4.376439\n",
       "std       1.102195\n",
       "min       1.000000\n",
       "25%       4.000000\n",
       "50%       5.000000\n",
       "75%       5.000000\n",
       "max       5.000000"
      ]
     },
     "execution_count": 13,
     "metadata": {},
     "output_type": "execute_result"
    }
   ],
   "source": [
    "data.describe()"
   ]
  },
  {
   "cell_type": "markdown",
   "id": "8ed7a30c",
   "metadata": {},
   "source": [
    "Using the data with non-null reviews."
   ]
  },
  {
   "cell_type": "markdown",
   "id": "c24e46d7",
   "metadata": {},
   "source": [
    "Create Binary Output"
   ]
  },
  {
   "cell_type": "markdown",
   "id": "ba0158cc",
   "metadata": {},
   "source": [
    "Set up the data to be binary so that the model engine will recognize the positive vs negative rating."
   ]
  },
  {
   "cell_type": "code",
   "execution_count": null,
   "id": "97c79f24",
   "metadata": {},
   "outputs": [],
   "source": [
    "# Positive or Negative Scoring on Valid Data\n",
    "valid_data.loc[:, 'Reaction'] = (valid_data['Rating'] >= 3).astype(int)"
   ]
  },
  {
   "cell_type": "markdown",
   "id": "b4b5fa31",
   "metadata": {},
   "source": [
    "Drop Rating Column"
   ]
  },
  {
   "cell_type": "markdown",
   "id": "b10036b7",
   "metadata": {},
   "source": [
    "After creating the binary column determined to be >= 3 as good and < 3 as bad. \n",
    "\n",
    "Get a quick view of the proportions of ratings to see how well trained the model will be."
   ]
  },
  {
   "cell_type": "code",
   "execution_count": null,
   "id": "ba2ed8e4",
   "metadata": {},
   "outputs": [],
   "source": [
    "valid_data.drop(columns=['Rating'], inplace=True)"
   ]
  },
  {
   "cell_type": "code",
   "execution_count": 16,
   "id": "28c99ef0",
   "metadata": {},
   "outputs": [
    {
     "data": {
      "image/png": "[encoded data removed]",
      "text/plain": [
       "<Figure size 640x480 with 1 Axes>"
      ]
     },
     "metadata": {},
     "output_type": "display_data"
    }
   ],
   "source": [
    "# Bar Graph\n",
    "valid_data['Reaction'].value_counts().plot(kind='bar')\n",
    "\n",
    "# Lables\n",
    "plt.xlabel('Reaction')\n",
    "plt.ylabel('Count')\n",
    "plt.title('Reaction')\n",
    "\n",
    "# 1plot\n",
    "plt.show()"
   ]
  },
  {
   "cell_type": "markdown",
   "id": "5f24bada",
   "metadata": {},
   "source": [
    "Looks to have more data on the \"Good\" side than the \"bad\". May want to consider removing the 3 value all to gether and work with the extreems only."
   ]
  },
  {
   "cell_type": "code",
   "execution_count": 17,
   "id": "6a7383ff",
   "metadata": {},
   "outputs": [
    {
     "data": {
      "text/html": [
       "<div>\n",
       "<style scoped>\n",
       "    .dataframe tbody tr th:only-of-type {\n",
       "        vertical-align: middle;\n",
       "    }\n",
       "\n",
       "    .dataframe tbody tr th {\n",
       "        vertical-align: top;\n",
       "    }\n",
       "\n",
       "    .dataframe thead th {\n",
       "        text-align: right;\n",
       "    }\n",
       "</style>\n",
       "<table border=\"1\" class=\"dataframe\">\n",
       "  <thead>\n",
       "    <tr style=\"text-align: right;\">\n",
       "      <th></th>\n",
       "      <th>Review</th>\n",
       "      <th>Reaction</th>\n",
       "    </tr>\n",
       "  </thead>\n",
       "  <tbody>\n",
       "    <tr>\n",
       "      <th>0</th>\n",
       "      <td>Waited in line to order kettle corn, and while...</td>\n",
       "      <td>0</td>\n",
       "    </tr>\n",
       "    <tr>\n",
       "      <th>1</th>\n",
       "      <td>A waste of money and time as a grown adult bei...</td>\n",
       "      <td>0</td>\n",
       "    </tr>\n",
       "    <tr>\n",
       "      <th>2</th>\n",
       "      <td>Nachos clearly come with 2 cheeses even the pa...</td>\n",
       "      <td>1</td>\n",
       "    </tr>\n",
       "    <tr>\n",
       "      <th>3</th>\n",
       "      <td>Uncomfortable seats. Staff customer service wa...</td>\n",
       "      <td>0</td>\n",
       "    </tr>\n",
       "    <tr>\n",
       "      <th>4</th>\n",
       "      <td>Giving it one star because they charge for onl...</td>\n",
       "      <td>0</td>\n",
       "    </tr>\n",
       "  </tbody>\n",
       "</table>\n",
       "</div>"
      ],
      "text/plain": [
       "                                              Review  Reaction\n",
       "0  Waited in line to order kettle corn, and while...         0\n",
       "1  A waste of money and time as a grown adult bei...         0\n",
       "2  Nachos clearly come with 2 cheeses even the pa...         1\n",
       "3  Uncomfortable seats. Staff customer service wa...         0\n",
       "4  Giving it one star because they charge for onl...         0"
      ]
     },
     "execution_count": 17,
     "metadata": {},
     "output_type": "execute_result"
    }
   ],
   "source": [
    "valid_data.head()"
   ]
  },
  {
   "cell_type": "code",
   "execution_count": 44,
   "id": "ffd74f8e",
   "metadata": {},
   "outputs": [],
   "source": [
    "for_grins_data = data[data['Review'].notna()]"
   ]
  },
  {
   "cell_type": "code",
   "execution_count": 45,
   "id": "cb108ee1",
   "metadata": {},
   "outputs": [],
   "source": [
    "for_grins_data = for_grins_data[for_grins_data['Rating'] != 3]"
   ]
  },
  {
   "cell_type": "code",
   "execution_count": 46,
   "id": "ece3c216",
   "metadata": {},
   "outputs": [],
   "source": [
    "for_grins_data.loc[:, 'Reaction'] = (for_grins_data['Rating'] >= 4).astype(int)"
   ]
  },
  {
   "cell_type": "code",
   "execution_count": 47,
   "id": "38ee0f54",
   "metadata": {},
   "outputs": [],
   "source": [
    "for_grins_data.drop(columns=['Rating'], inplace=True)"
   ]
  },
  {
   "cell_type": "code",
   "execution_count": 48,
   "id": "6a4a31fe",
   "metadata": {},
   "outputs": [
    {
     "data": {
      "image/png": "[encoded data removed]",
      "text/plain": [
       "<Figure size 640x480 with 1 Axes>"
      ]
     },
     "metadata": {},
     "output_type": "display_data"
    }
   ],
   "source": [
    "# Bar Graph\n",
    "for_grins_data['Reaction'].value_counts().plot(kind='bar')\n",
    "\n",
    "# Lables\n",
    "plt.xlabel('Reaction')\n",
    "plt.ylabel('Count')\n",
    "plt.title('Reaction')\n",
    "\n",
    "# 1plot\n",
    "plt.show()"
   ]
  },
  {
   "cell_type": "markdown",
   "id": "92779b4e",
   "metadata": {},
   "source": [
    "Removign the 3 value did not seem to flatten out the groups."
   ]
  },
  {
   "cell_type": "markdown",
   "id": "ec1239e9",
   "metadata": {},
   "source": [
    "Word Count"
   ]
  },
  {
   "cell_type": "markdown",
   "id": "5a214af6",
   "metadata": {},
   "source": [
    "Preparing the way for for further analysis or hypothesis test to see if if angry customers write novels vs the happy customers quick and to the point."
   ]
  },
  {
   "cell_type": "code",
   "execution_count": null,
   "id": "f9d56556",
   "metadata": {},
   "outputs": [],
   "source": [
    "valid_data['Word_Count'] = valid_data['Review'].apply(lambda x: len(str(x).split()))"
   ]
  },
  {
   "cell_type": "code",
   "execution_count": 19,
   "id": "3f1648e3",
   "metadata": {},
   "outputs": [
    {
     "data": {
      "image/png": "[encoded data removed]",
      "text/plain": [
       "<Figure size 1000x600 with 1 Axes>"
      ]
     },
     "metadata": {},
     "output_type": "display_data"
    }
   ],
   "source": [
    "reaction_1_data = valid_data[valid_data['Reaction'] == 1]\n",
    "reaction_0_data = valid_data[valid_data['Reaction'] == 0]\n",
    "\n",
    "# Histograms for word counts\n",
    "plt.figure(figsize=(10, 6))\n",
    "plt.hist(reaction_1_data['Word_Count'], bins=20, alpha=0.5, color='blue', label='Reaction 1')\n",
    "plt.hist(reaction_0_data['Word_Count'], bins=20, alpha=0.5, color='red', label='Reaction 0')\n",
    "plt.xlabel('Word Count')\n",
    "plt.ylabel('Frequency')\n",
    "plt.title('Distribution of Word Counts by Reaction')\n",
    "plt.legend()\n",
    "plt.show()"
   ]
  },
  {
   "cell_type": "markdown",
   "id": "884a1fed",
   "metadata": {},
   "source": [
    "The data here is spread fairly considerabley. But those 800 ends would like to see if this supports that angry customers write more than happier customers. this could be quantified and help the model's accuracy."
   ]
  },
  {
   "cell_type": "markdown",
   "id": "1f64dd21",
   "metadata": {},
   "source": [
    "## Part 4: Conclusion\n",
    "<br>\n",
    "<div style=\"width: 100%; border-bottom: 1px solid black;\"></div>"
   ]
  },
  {
   "cell_type": "markdown",
   "id": "905eff94",
   "metadata": {},
   "source": [
    "We began by stating a challenge associated with the volume of reviews and the spead of theaters. This opened up the opportunity for developing a cechanism to help assist in this task of organizing reviews. Through the reviews we can aid to our understanding from audiance concerns, sentaments, suggestions, preferances, and trends. We effectivly cut costs by saving the manual take of looking through reviews, recording them, and making data driven decitions. The analysis conducted helped flush out the review data we pulled in. We looked at the overall spread of data and checked the validity of the numbers and set up groups for hypothesis testing later in the process. We prepped the data and established busness logic to convert the ratings into a binary classifier and clean some of the data. The next few steps will be cleaning up the text and running the nessisary code to classify the respones to help aid the theaters. Overall, this analysis empowers theaters to better understand their audience and tailor their offerings to meet their needs and expectations."
   ]
  }
 ],
 "metadata": {
  "kernelspec": {
   "display_name": "Python 3 (ipykernel)",
   "language": "python",
   "name": "python3"
  },
  "language_info": {
   "codemirror_mode": {
    "name": "ipython",
    "version": 3
   },
   "file_extension": ".py",
   "mimetype": "text/x-python",
   "name": "python",
   "nbconvert_exporter": "python",
   "pygments_lexer": "ipython3",
   "version": "3.11.5"
  }
 },
 "nbformat": 4,
 "nbformat_minor": 5
}
