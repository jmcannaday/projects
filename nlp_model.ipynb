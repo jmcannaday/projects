{
 "cells": [
  {
   "cell_type": "markdown",
   "id": "9f029619",
   "metadata": {},
   "source": [
    "<br>\n",
    "<center>\n",
    "\n",
    "# Assignments for Week 5\n",
    "\n",
    "</center>"
   ]
  },
  {
   "cell_type": "markdown",
   "id": "0edacd0d",
   "metadata": {},
   "source": [
    "<div style=\"text-align: right; width: 15%; margin-left: auto;\">\n",
    "    \n",
    "Jon Cannaday <br>\n",
    "DSC 550 <br>\n",
    "4/11/2024  \n",
    "\n",
    "</div>\n"
   ]
  },
  {
   "cell_type": "markdown",
   "id": "7ecbcf7c",
   "metadata": {},
   "source": [
    "## Libraries"
   ]
  },
  {
   "cell_type": "code",
   "execution_count": 25,
   "id": "33e2b2e6",
   "metadata": {},
   "outputs": [],
   "source": [
    "import pandas as pd\n",
    "from textblob import TextBlob\n",
    "from sklearn.metrics import accuracy_score\n",
    "from nltk.sentiment.vader import SentimentIntensityAnalyzer\n",
    "import nltk\n",
    "import string\n",
    "from nltk.corpus import stopwords\n",
    "from nltk.stem import PorterStemmer\n",
    "from sklearn.feature_extraction.text import CountVectorizer\n",
    "from sklearn.feature_extraction.text import TfidfVectorizer\n",
    "from sklearn.model_selection import train_test_split\n",
    "from sklearn.linear_model import LogisticRegression\n",
    "from sklearn.metrics import accuracy_score\n",
    "from sklearn.metrics import confusion_matrix\n",
    "import seaborn as sns\n",
    "import matplotlib.pyplot as plt\n",
    "from sklearn.metrics import precision_recall_fscore_support\n",
    "from sklearn.metrics import roc_curve, roc_auc_score\n",
    "from sklearn.ensemble import RandomForestClassifier"
   ]
  },
  {
   "cell_type": "markdown",
   "id": "948b8e4b",
   "metadata": {},
   "source": [
    "## Part 1: Get the stemmed data using the same process you did in Week 3.\n",
    "<br>\n",
    "<div style=\"width: 100%; border-bottom: 1px solid black;\"></div>"
   ]
  },
  {
   "cell_type": "markdown",
   "id": "952cb7af",
   "metadata": {},
   "source": [
    "   - ### Import the movie review data as a data frame and ensure that the data is loaded properly.\n"
   ]
  },
  {
   "cell_type": "code",
   "execution_count": 2,
   "id": "1d194929",
   "metadata": {},
   "outputs": [
    {
     "name": "stdout",
     "output_type": "stream",
     "text": [
      "<class 'pandas.core.frame.DataFrame'>\n",
      "\n",
      "       id  sentiment                                             review\n",
      "0  5814_8          1  With all this stuff going down at the moment w...\n",
      "1  2381_9          1  \\The Classic War of the Worlds\\\" by Timothy Hi...\n",
      "2  7759_3          0  The film starts with a manager (Nicholas Bell)...\n",
      "3  3630_4          0  It must be assumed that those who praised this...\n",
      "4  9495_8          1  Superbly trashy and wondrously unpretentious 8...\n"
     ]
    }
   ],
   "source": [
    "path = r'C:\\Users\\Owner\\OneDrive\\Desktop\\DataScience\\2024_Spring_DataMining\\labeledTrainData.tsv'\n",
    "data = pd.read_csv(path, sep='\\t')\n",
    "\n",
    "\n",
    "print(type(data)) # Data type\n",
    "print()\n",
    "print(data.head()) # Data check"
   ]
  },
  {
   "cell_type": "markdown",
   "id": "148ad2ab",
   "metadata": {},
   "source": [
    "   - ### How many of each positive and negative reviews are there?\n"
   ]
  },
  {
   "cell_type": "code",
   "execution_count": 3,
   "id": "0aece52a",
   "metadata": {},
   "outputs": [
    {
     "name": "stdout",
     "output_type": "stream",
     "text": [
      "Positive reviews:  12500\n",
      "Negative reviews:  12500\n"
     ]
    }
   ],
   "source": [
    "positive = data[data['sentiment'] == 1] # Boolean filter where condition it true\n",
    "negative = data[data['sentiment'] == 0]\n",
    "\n",
    "print(\"Positive reviews: \", len(positive)) # Number of elements\n",
    "print(\"Negative reviews: \", len(negative))"
   ]
  },
  {
   "cell_type": "markdown",
   "id": "e82eb4be",
   "metadata": {},
   "source": [
    "   - ### Use TextBlob to classify each movie review as positive or negative. Assume that a polarity score greater than or equal to zero is a positive sentiment and less than 0 is a negative sentiment.\n"
   ]
  },
  {
   "cell_type": "code",
   "execution_count": 4,
   "id": "c221e331",
   "metadata": {},
   "outputs": [
    {
     "name": "stdout",
     "output_type": "stream",
     "text": [
      "\n",
      "0        1\n",
      "1        1\n",
      "2        0\n",
      "3        1\n",
      "4        0\n",
      "        ..\n",
      "24995    1\n",
      "24996    1\n",
      "24997    1\n",
      "24998    1\n",
      "24999    1\n",
      "Name: predicted_sentiment, Length: 25000, dtype: int64\n"
     ]
    }
   ],
   "source": [
    "# Create prediction column using Polarity which quantifies the sentiment returns binary \n",
    "data['predicted_sentiment'] = data['review'].apply(lambda text: 1 if TextBlob(text).sentiment.polarity >= 0 else 0)\n",
    "\n",
    "print()\n",
    "print(data['predicted_sentiment'])"
   ]
  },
  {
   "cell_type": "markdown",
   "id": "429ea04b",
   "metadata": {},
   "source": [
    "   - ### Check the accuracy of this model. Is this model better than random guessing?\n"
   ]
  },
  {
   "cell_type": "code",
   "execution_count": 5,
   "id": "50cb738b",
   "metadata": {},
   "outputs": [
    {
     "name": "stdout",
     "output_type": "stream",
     "text": [
      "\n",
      "Model accuracy :  0.68524\n",
      "\n",
      "Which would be better than guessing, we have a 50/50 shot at guessing correctly.\n"
     ]
    }
   ],
   "source": [
    "accuracy_textblob = accuracy_score(data['sentiment'], data['predicted_sentiment']) # Accuracy statment\n",
    "print()\n",
    "print(\"Model accuracy : \", accuracy_textblob) # Results\n",
    "print()\n",
    "print(\"Which would be better than guessing, we have a 50/50 shot at guessing correctly.\")"
   ]
  },
  {
   "cell_type": "markdown",
   "id": "472de2ea",
   "metadata": {},
   "source": [
    "   - ### Convert all text to lowercase letters.\n"
   ]
  },
  {
   "cell_type": "code",
   "execution_count": 6,
   "id": "e0456eb0",
   "metadata": {},
   "outputs": [
    {
     "name": "stdout",
     "output_type": "stream",
     "text": [
      "\n",
      "0    with all this stuff going down at the moment w...\n",
      "1    \\the classic war of the worlds\\\" by timothy hi...\n",
      "2    the film starts with a manager (nicholas bell)...\n",
      "3    it must be assumed that those who praised this...\n",
      "4    superbly trashy and wondrously unpretentious 8...\n",
      "Name: review, dtype: object\n"
     ]
    }
   ],
   "source": [
    "data['review'] = data['review'].str.lower() # Lower case\n",
    "print()\n",
    "print(data['review'].head())"
   ]
  },
  {
   "cell_type": "markdown",
   "id": "cb8632ab",
   "metadata": {},
   "source": [
    "   - ### Remove punctuation and special characters from the text.\n"
   ]
  },
  {
   "cell_type": "code",
   "execution_count": 7,
   "id": "d5fe1da3",
   "metadata": {},
   "outputs": [
    {
     "name": "stdout",
     "output_type": "stream",
     "text": [
      "\n",
      "0    with all this stuff going down at the moment w...\n",
      "1    the classic war of the worlds by timothy hines...\n",
      "2    the film starts with a manager nicholas bell g...\n",
      "3    it must be assumed that those who praised this...\n",
      "4    superbly trashy and wondrously unpretentious 8...\n",
      "Name: review, dtype: object\n"
     ]
    }
   ],
   "source": [
    "# not in logic to remove the punctuation\n",
    "data['review'] = data['review'].apply(lambda text: ''.join(char for char in text if char not in string.punctuation))\n",
    "print()\n",
    "print(data['review'].head())"
   ]
  },
  {
   "cell_type": "markdown",
   "id": "06a902d0",
   "metadata": {},
   "source": [
    "   - ### Remove stop words.\n"
   ]
  },
  {
   "cell_type": "code",
   "execution_count": 8,
   "id": "13e90df6",
   "metadata": {},
   "outputs": [
    {
     "name": "stdout",
     "output_type": "stream",
     "text": [
      "\n",
      "0    stuff going moment mj ive started listening mu...\n",
      "1    classic war worlds timothy hines entertaining ...\n",
      "2    film starts manager nicholas bell giving welco...\n",
      "3    must assumed praised film greatest filmed oper...\n",
      "4    superbly trashy wondrously unpretentious 80s e...\n",
      "Name: review, dtype: object\n"
     ]
    }
   ],
   "source": [
    "# not in logic to remove the stop words\n",
    "stop_words = set(stopwords.words('english'))\n",
    "data['review'] = data['review'].apply(lambda text: ' '.join(word for word in text.split() if word not in stop_words))\n",
    "\n",
    "print()\n",
    "print(data['review'].head())"
   ]
  },
  {
   "cell_type": "markdown",
   "id": "9a005699",
   "metadata": {},
   "source": [
    "   - ### Apply NLTK’s PorterStemmer.\n"
   ]
  },
  {
   "cell_type": "code",
   "execution_count": 9,
   "id": "4d770938",
   "metadata": {},
   "outputs": [
    {
     "name": "stdout",
     "output_type": "stream",
     "text": [
      "\n",
      "0    stuff go moment mj ive start listen music watc...\n",
      "1    classic war world timothi hine entertain film ...\n",
      "2    film start manag nichola bell give welcom inve...\n",
      "3    must assum prais film greatest film opera ever...\n",
      "4    superbl trashi wondrous unpretenti 80 exploit ...\n",
      "Name: review, dtype: object\n"
     ]
    }
   ],
   "source": [
    "# Initiates PorterStemmer\n",
    "stemmer = PorterStemmer()\n",
    "\n",
    "# create a review column and split \n",
    "data['review'] = data['review'].apply(lambda text: ' '.join(stemmer.stem(word) for word in text.split()))\n",
    "\n",
    "print()\n",
    "print(data['review'].head())"
   ]
  },
  {
   "cell_type": "markdown",
   "id": "8cef0e6d",
   "metadata": {},
   "source": [
    "   - ### Create a bag-of-words matrix from your stemmed text (output from (4)), where each row is a word-count vector for a single movie review (see sections 5.3 & 6.8 in the Machine Learning with Python Cookbook). Display the dimensions of your bag-of-words matrix. The number of rows in this matrix should be the same as the number of rows in your original data frame.\n"
   ]
  },
  {
   "cell_type": "code",
   "execution_count": 10,
   "id": "eeab0fee",
   "metadata": {},
   "outputs": [
    {
     "name": "stdout",
     "output_type": "stream",
     "text": [
      "Dimensions of the bag-of-words matrix: (25000, 91587)\n"
     ]
    }
   ],
   "source": [
    "# initiates port stemmer\n",
    "stemmer = PorterStemmer()\n",
    "\n",
    "# Custom column \n",
    "data['review'] = data['review'].apply(lambda text: ' '.join(stemmer.stem(word) for word in text.split()))\n",
    "\n",
    "# Matrix\n",
    "vectorizer = CountVectorizer()\n",
    "bag_of_words_matrix = vectorizer.fit_transform(data['review'])\n",
    "\n",
    "# Matrix dimensions\n",
    "print(\"Dimensions of the bag-of-words matrix:\", bag_of_words_matrix.shape)"
   ]
  },
  {
   "cell_type": "markdown",
   "id": "f231a2f3",
   "metadata": {},
   "source": [
    "   - ### Create a term frequency-inverse document frequency (tf-idf) matrix from your stemmed text, for your movie reviews (see section 6.9 in the Machine Learning with Python Cookbook). Display the dimensions of your tf-idf matrix. These dimensions should be the same as your bag-of-words matrix."
   ]
  },
  {
   "cell_type": "code",
   "execution_count": 11,
   "id": "b01e26c8",
   "metadata": {},
   "outputs": [
    {
     "name": "stdout",
     "output_type": "stream",
     "text": [
      "Dimensions of the tf-idf matrix: (25000, 91473)\n"
     ]
    }
   ],
   "source": [
    "stemmer = PorterStemmer()\n",
    "\n",
    "# Custom colum that passes each split work idto the stemmer\n",
    "data['review'] = data['review'].apply(lambda text: ' '.join(stemmer.stem(word) for word in text.split()))\n",
    "\n",
    "# tf-idf matrix\n",
    "tfidf_vectorizer = TfidfVectorizer()\n",
    "tfidf_matrix = tfidf_vectorizer.fit_transform(data['review'])\n",
    "\n",
    "# tf-idf Matrix dimensions\n",
    "print(\"Dimensions of the tf-idf matrix:\", tfidf_matrix.shape)"
   ]
  },
  {
   "cell_type": "markdown",
   "id": "dfc961d0",
   "metadata": {},
   "source": [
    "## Part 2: Split this into a training and test set.\n",
    "<br>\n",
    "<div style=\"width: 100%; border-bottom: 1px solid black;\"></div>"
   ]
  },
  {
   "cell_type": "code",
   "execution_count": 42,
   "id": "dda3c0a8",
   "metadata": {},
   "outputs": [
    {
     "name": "stdout",
     "output_type": "stream",
     "text": [
      "Training set shape: (20000,) (20000,)\n",
      "Test set shape: (5000,) (5000,)\n"
     ]
    }
   ],
   "source": [
    "# Set each review and sentiment column as variables\n",
    "\n",
    "X = data['review']  # Features\n",
    "y = data['sentiment']  # Target\n",
    "\n",
    "# Split the columns into 80-20\n",
    "# 80 being where the model gathers its statistics\n",
    "# 20 where the statistcs are used on unseen data\n",
    "X_train, X_test, y_train, y_test = train_test_split(X, y, test_size=0.2, random_state=42)\n",
    "\n",
    "print(\"Training set shape:\", X_train.shape, y_train.shape)\n",
    "print(\"Test set shape:\", X_test.shape, y_test.shape)"
   ]
  },
  {
   "cell_type": "markdown",
   "id": "78bd72aa",
   "metadata": {},
   "source": [
    "## Part 3: Fit and apply the tf-idf vectorization to the training set.\n",
    "<br>\n",
    "<div style=\"width: 100%; border-bottom: 1px solid black;\"></div>"
   ]
  },
  {
   "cell_type": "code",
   "execution_count": 43,
   "id": "e68c4e41",
   "metadata": {},
   "outputs": [
    {
     "name": "stdout",
     "output_type": "stream",
     "text": [
      "Training set Dimensions :  (20000, 80029)\n",
      "Test set Dimensions : (5000, 80029)\n"
     ]
    }
   ],
   "source": [
    "# Term Frequency-Inverse Document Frequency which is a class \n",
    "tfidf_vectorizer = TfidfVectorizer()\n",
    "\n",
    "# Weights for each word in the training set\n",
    "X_train_tfidf = tfidf_vectorizer.fit_transform(X_train)\n",
    "\n",
    "# Transform method instead of fit_transform because we already have the data needed\n",
    "X_test_tfidf = tfidf_vectorizer.transform(X_test)\n",
    "\n",
    "print(\"Training set Dimensions : \", X_train_tfidf.shape)\n",
    "print(\"Test set Dimensions :\", X_test_tfidf.shape)"
   ]
  },
  {
   "cell_type": "markdown",
   "id": "dbecd038",
   "metadata": {},
   "source": [
    "## Part 4: Apply but DO NOT FIT the tf-idf vectorization to the test set (Why?).\n",
    "<br>\n",
    "<div style=\"width: 100%; border-bottom: 1px solid black;\"></div>"
   ]
  },
  {
   "cell_type": "markdown",
   "id": "db1ae171",
   "metadata": {},
   "source": [
    "When we vectorized the training data it simply ran a model using the data in the 80 training set. We do not want the model to use the new data to get new statistics & vocab, we want the model to apply what it gathered from the training data and apply it to new data. "
   ]
  },
  {
   "cell_type": "markdown",
   "id": "78e1b1bd",
   "metadata": {},
   "source": [
    "## Part 5: Train a logistic regression using the training data.\n",
    "<br>\n",
    "<div style=\"width: 100%; border-bottom: 1px solid black;\"></div>"
   ]
  },
  {
   "cell_type": "code",
   "execution_count": 44,
   "id": "b1465b30",
   "metadata": {},
   "outputs": [
    {
     "data": {
      "text/html": [
       "<style>#sk-container-id-3 {color: black;}#sk-container-id-3 pre{padding: 0;}#sk-container-id-3 div.sk-toggleable {background-color: white;}#sk-container-id-3 label.sk-toggleable__label {cursor: pointer;display: block;width: 100%;margin-bottom: 0;padding: 0.3em;box-sizing: border-box;text-align: center;}#sk-container-id-3 label.sk-toggleable__label-arrow:before {content: \"▸\";float: left;margin-right: 0.25em;color: #696969;}#sk-container-id-3 label.sk-toggleable__label-arrow:hover:before {color: black;}#sk-container-id-3 div.sk-estimator:hover label.sk-toggleable__label-arrow:before {color: black;}#sk-container-id-3 div.sk-toggleable__content {max-height: 0;max-width: 0;overflow: hidden;text-align: left;background-color: #f0f8ff;}#sk-container-id-3 div.sk-toggleable__content pre {margin: 0.2em;color: black;border-radius: 0.25em;background-color: #f0f8ff;}#sk-container-id-3 input.sk-toggleable__control:checked~div.sk-toggleable__content {max-height: 200px;max-width: 100%;overflow: auto;}#sk-container-id-3 input.sk-toggleable__control:checked~label.sk-toggleable__label-arrow:before {content: \"▾\";}#sk-container-id-3 div.sk-estimator input.sk-toggleable__control:checked~label.sk-toggleable__label {background-color: #d4ebff;}#sk-container-id-3 div.sk-label input.sk-toggleable__control:checked~label.sk-toggleable__label {background-color: #d4ebff;}#sk-container-id-3 input.sk-hidden--visually {border: 0;clip: rect(1px 1px 1px 1px);clip: rect(1px, 1px, 1px, 1px);height: 1px;margin: -1px;overflow: hidden;padding: 0;position: absolute;width: 1px;}#sk-container-id-3 div.sk-estimator {font-family: monospace;background-color: #f0f8ff;border: 1px dotted black;border-radius: 0.25em;box-sizing: border-box;margin-bottom: 0.5em;}#sk-container-id-3 div.sk-estimator:hover {background-color: #d4ebff;}#sk-container-id-3 div.sk-parallel-item::after {content: \"\";width: 100%;border-bottom: 1px solid gray;flex-grow: 1;}#sk-container-id-3 div.sk-label:hover label.sk-toggleable__label {background-color: #d4ebff;}#sk-container-id-3 div.sk-serial::before {content: \"\";position: absolute;border-left: 1px solid gray;box-sizing: border-box;top: 0;bottom: 0;left: 50%;z-index: 0;}#sk-container-id-3 div.sk-serial {display: flex;flex-direction: column;align-items: center;background-color: white;padding-right: 0.2em;padding-left: 0.2em;position: relative;}#sk-container-id-3 div.sk-item {position: relative;z-index: 1;}#sk-container-id-3 div.sk-parallel {display: flex;align-items: stretch;justify-content: center;background-color: white;position: relative;}#sk-container-id-3 div.sk-item::before, #sk-container-id-3 div.sk-parallel-item::before {content: \"\";position: absolute;border-left: 1px solid gray;box-sizing: border-box;top: 0;bottom: 0;left: 50%;z-index: -1;}#sk-container-id-3 div.sk-parallel-item {display: flex;flex-direction: column;z-index: 1;position: relative;background-color: white;}#sk-container-id-3 div.sk-parallel-item:first-child::after {align-self: flex-end;width: 50%;}#sk-container-id-3 div.sk-parallel-item:last-child::after {align-self: flex-start;width: 50%;}#sk-container-id-3 div.sk-parallel-item:only-child::after {width: 0;}#sk-container-id-3 div.sk-dashed-wrapped {border: 1px dashed gray;margin: 0 0.4em 0.5em 0.4em;box-sizing: border-box;padding-bottom: 0.4em;background-color: white;}#sk-container-id-3 div.sk-label label {font-family: monospace;font-weight: bold;display: inline-block;line-height: 1.2em;}#sk-container-id-3 div.sk-label-container {text-align: center;}#sk-container-id-3 div.sk-container {/* jupyter's `normalize.less` sets `[hidden] { display: none; }` but bootstrap.min.css set `[hidden] { display: none !important; }` so we also need the `!important` here to be able to override the default hidden behavior on the sphinx rendered scikit-learn.org. See: https://github.com/scikit-learn/scikit-learn/issues/21755 */display: inline-block !important;position: relative;}#sk-container-id-3 div.sk-text-repr-fallback {display: none;}</style><div id=\"sk-container-id-3\" class=\"sk-top-container\"><div class=\"sk-text-repr-fallback\"><pre>LogisticRegression()</pre><b>In a Jupyter environment, please rerun this cell to show the HTML representation or trust the notebook. <br />On GitHub, the HTML representation is unable to render, please try loading this page with nbviewer.org.</b></div><div class=\"sk-container\" hidden><div class=\"sk-item\"><div class=\"sk-estimator sk-toggleable\"><input class=\"sk-toggleable__control sk-hidden--visually\" id=\"sk-estimator-id-3\" type=\"checkbox\" checked><label for=\"sk-estimator-id-3\" class=\"sk-toggleable__label sk-toggleable__label-arrow\">LogisticRegression</label><div class=\"sk-toggleable__content\"><pre>LogisticRegression()</pre></div></div></div></div></div>"
      ],
      "text/plain": [
       "LogisticRegression()"
      ]
     },
     "execution_count": 44,
     "metadata": {},
     "output_type": "execute_result"
    }
   ],
   "source": [
    "# Binary model\n",
    "logistic_regression_model = LogisticRegression()\n",
    "\n",
    "# will see the weights of each word and determine the relationship\n",
    "logistic_regression_model.fit(X_train_tfidf, y_train)"
   ]
  },
  {
   "cell_type": "markdown",
   "id": "c90328a3",
   "metadata": {},
   "source": [
    "## Part 6: Find the model accuracy on test set.\n",
    "<br>\n",
    "<div style=\"width: 100%; border-bottom: 1px solid black;\"></div>"
   ]
  },
  {
   "cell_type": "code",
   "execution_count": 45,
   "id": "cfd78eb2",
   "metadata": {},
   "outputs": [
    {
     "name": "stdout",
     "output_type": "stream",
     "text": [
      "Accuracy: 0.8866\n"
     ]
    }
   ],
   "source": [
    "# Test on Y\n",
    "y_pred = logistic_regression_model.predict(X_test_tfidf)\n",
    "\n",
    "# Accuracy\n",
    "accuracy_test = accuracy_score(y_test, y_pred)\n",
    "\n",
    "print(\"Accuracy:\", accuracy_test)"
   ]
  },
  {
   "cell_type": "markdown",
   "id": "22b82b9b",
   "metadata": {},
   "source": [
    "## Part 7: Create a confusion matrix for the test set predictions.\n",
    "<br>\n",
    "<div style=\"width: 100%; border-bottom: 1px solid black;\"></div>"
   ]
  },
  {
   "cell_type": "code",
   "execution_count": 46,
   "id": "44e85c2d",
   "metadata": {},
   "outputs": [
    {
     "data": {
      "image/png": "[encoded data removed]",
      "text/plain": [
       "<Figure size 800x600 with 1 Axes>"
      ]
     },
     "metadata": {},
     "output_type": "display_data"
    }
   ],
   "source": [
    "# Confusion matrix\n",
    "conf_matrix = confusion_matrix(y_test, y_pred)\n",
    "\n",
    "# Plot\n",
    "plt.figure(figsize=(8, 6))\n",
    "sns.heatmap(conf_matrix, annot=True, fmt='d', cmap='Reds', cbar=False)\n",
    "plt.title('Confusion Matrix')\n",
    "plt.xlabel('Predicted')\n",
    "plt.ylabel('Actual')\n",
    "plt.show()"
   ]
  },
  {
   "cell_type": "markdown",
   "id": "15fd25cd",
   "metadata": {},
   "source": [
    "## Part 8: Get the precision, recall, and F1-score for the test set predictions.\n",
    "<br>\n",
    "<div style=\"width: 100%; border-bottom: 1px solid black;\"></div>"
   ]
  },
  {
   "cell_type": "markdown",
   "id": "35236e10",
   "metadata": {},
   "source": [
    "Precision = TP / (TP + FP)\n",
    "\n",
    "Recall = TP / (TP + FN)\n",
    "\n",
    "F1-score = 2 * (Precision * Recall) / (Precision + Recall)"
   ]
  },
  {
   "cell_type": "code",
   "execution_count": 47,
   "id": "a374910c",
   "metadata": {},
   "outputs": [
    {
     "name": "stdout",
     "output_type": "stream",
     "text": [
      "Precision: 0.8762528912875868\n",
      "Recall: 0.9023421992854307\n",
      "F1-score: 0.889106199882652\n"
     ]
    }
   ],
   "source": [
    "# Precision, recall, and F1-score\n",
    "precision, recall, f1_score, _ = precision_recall_fscore_support(y_test, y_pred, average='binary')\n",
    "\n",
    "print(\"Precision:\", precision)\n",
    "print(\"Recall:\", recall)\n",
    "print(\"F1-score:\", f1_score)"
   ]
  },
  {
   "cell_type": "markdown",
   "id": "c36fb8fb",
   "metadata": {},
   "source": [
    "## Part 9: Create a ROC curve for the test set.\n",
    "<br>\n",
    "<div style=\"width: 100%; border-bottom: 1px solid black;\"></div>"
   ]
  },
  {
   "cell_type": "code",
   "execution_count": 54,
   "id": "0b067302",
   "metadata": {},
   "outputs": [
    {
     "data": {
      "image/png": "[encoded data removed]",
      "text/plain": [
       "<Figure size 800x600 with 1 Axes>"
      ]
     },
     "metadata": {},
     "output_type": "display_data"
    }
   ],
   "source": [
    "# Positive class\n",
    "y_prob = logistic_regression_model.predict_proba(X_test_tfidf)[:, 1]\n",
    "\n",
    "# False positive rate, true positive rate, and thresholds\n",
    "# Receiver Operating Characteristic\n",
    "fpr, tpr, thresholds = roc_curve(y_test, y_prob)\n",
    "\n",
    "# Area under the ROC curve\n",
    "auc = roc_auc_score(y_test, y_prob)\n",
    "\n",
    "# Plot\n",
    "plt.figure(figsize=(8, 6))\n",
    "plt.plot(fpr, tpr, color='red', lw=2, label='ROC curve (AUC = {:.2f})'.format(auc))\n",
    "plt.plot([0, 1], [0, 1], color='gray', linestyle='--', lw=1)\n",
    "plt.xlim([0.0, 1.0])\n",
    "plt.ylim([0.0, 1.05])\n",
    "plt.xlabel('FPR')\n",
    "plt.ylabel('TPR')\n",
    "plt.title('ROC Curve')\n",
    "plt.grid(True)\n",
    "plt.show()"
   ]
  },
  {
   "cell_type": "markdown",
   "id": "81398bde",
   "metadata": {},
   "source": [
    "## Part 10: Pick another classification model you learned about this week and repeat steps (5) – (9).\n",
    "<br>\n",
    "<div style=\"width: 100%; border-bottom: 1px solid black;\"></div>"
   ]
  },
  {
   "cell_type": "code",
   "execution_count": 49,
   "id": "4f021688",
   "metadata": {},
   "outputs": [
    {
     "data": {
      "text/html": [
       "<style>#sk-container-id-4 {color: black;}#sk-container-id-4 pre{padding: 0;}#sk-container-id-4 div.sk-toggleable {background-color: white;}#sk-container-id-4 label.sk-toggleable__label {cursor: pointer;display: block;width: 100%;margin-bottom: 0;padding: 0.3em;box-sizing: border-box;text-align: center;}#sk-container-id-4 label.sk-toggleable__label-arrow:before {content: \"▸\";float: left;margin-right: 0.25em;color: #696969;}#sk-container-id-4 label.sk-toggleable__label-arrow:hover:before {color: black;}#sk-container-id-4 div.sk-estimator:hover label.sk-toggleable__label-arrow:before {color: black;}#sk-container-id-4 div.sk-toggleable__content {max-height: 0;max-width: 0;overflow: hidden;text-align: left;background-color: #f0f8ff;}#sk-container-id-4 div.sk-toggleable__content pre {margin: 0.2em;color: black;border-radius: 0.25em;background-color: #f0f8ff;}#sk-container-id-4 input.sk-toggleable__control:checked~div.sk-toggleable__content {max-height: 200px;max-width: 100%;overflow: auto;}#sk-container-id-4 input.sk-toggleable__control:checked~label.sk-toggleable__label-arrow:before {content: \"▾\";}#sk-container-id-4 div.sk-estimator input.sk-toggleable__control:checked~label.sk-toggleable__label {background-color: #d4ebff;}#sk-container-id-4 div.sk-label input.sk-toggleable__control:checked~label.sk-toggleable__label {background-color: #d4ebff;}#sk-container-id-4 input.sk-hidden--visually {border: 0;clip: rect(1px 1px 1px 1px);clip: rect(1px, 1px, 1px, 1px);height: 1px;margin: -1px;overflow: hidden;padding: 0;position: absolute;width: 1px;}#sk-container-id-4 div.sk-estimator {font-family: monospace;background-color: #f0f8ff;border: 1px dotted black;border-radius: 0.25em;box-sizing: border-box;margin-bottom: 0.5em;}#sk-container-id-4 div.sk-estimator:hover {background-color: #d4ebff;}#sk-container-id-4 div.sk-parallel-item::after {content: \"\";width: 100%;border-bottom: 1px solid gray;flex-grow: 1;}#sk-container-id-4 div.sk-label:hover label.sk-toggleable__label {background-color: #d4ebff;}#sk-container-id-4 div.sk-serial::before {content: \"\";position: absolute;border-left: 1px solid gray;box-sizing: border-box;top: 0;bottom: 0;left: 50%;z-index: 0;}#sk-container-id-4 div.sk-serial {display: flex;flex-direction: column;align-items: center;background-color: white;padding-right: 0.2em;padding-left: 0.2em;position: relative;}#sk-container-id-4 div.sk-item {position: relative;z-index: 1;}#sk-container-id-4 div.sk-parallel {display: flex;align-items: stretch;justify-content: center;background-color: white;position: relative;}#sk-container-id-4 div.sk-item::before, #sk-container-id-4 div.sk-parallel-item::before {content: \"\";position: absolute;border-left: 1px solid gray;box-sizing: border-box;top: 0;bottom: 0;left: 50%;z-index: -1;}#sk-container-id-4 div.sk-parallel-item {display: flex;flex-direction: column;z-index: 1;position: relative;background-color: white;}#sk-container-id-4 div.sk-parallel-item:first-child::after {align-self: flex-end;width: 50%;}#sk-container-id-4 div.sk-parallel-item:last-child::after {align-self: flex-start;width: 50%;}#sk-container-id-4 div.sk-parallel-item:only-child::after {width: 0;}#sk-container-id-4 div.sk-dashed-wrapped {border: 1px dashed gray;margin: 0 0.4em 0.5em 0.4em;box-sizing: border-box;padding-bottom: 0.4em;background-color: white;}#sk-container-id-4 div.sk-label label {font-family: monospace;font-weight: bold;display: inline-block;line-height: 1.2em;}#sk-container-id-4 div.sk-label-container {text-align: center;}#sk-container-id-4 div.sk-container {/* jupyter's `normalize.less` sets `[hidden] { display: none; }` but bootstrap.min.css set `[hidden] { display: none !important; }` so we also need the `!important` here to be able to override the default hidden behavior on the sphinx rendered scikit-learn.org. See: https://github.com/scikit-learn/scikit-learn/issues/21755 */display: inline-block !important;position: relative;}#sk-container-id-4 div.sk-text-repr-fallback {display: none;}</style><div id=\"sk-container-id-4\" class=\"sk-top-container\"><div class=\"sk-text-repr-fallback\"><pre>RandomForestClassifier()</pre><b>In a Jupyter environment, please rerun this cell to show the HTML representation or trust the notebook. <br />On GitHub, the HTML representation is unable to render, please try loading this page with nbviewer.org.</b></div><div class=\"sk-container\" hidden><div class=\"sk-item\"><div class=\"sk-estimator sk-toggleable\"><input class=\"sk-toggleable__control sk-hidden--visually\" id=\"sk-estimator-id-4\" type=\"checkbox\" checked><label for=\"sk-estimator-id-4\" class=\"sk-toggleable__label sk-toggleable__label-arrow\">RandomForestClassifier</label><div class=\"sk-toggleable__content\"><pre>RandomForestClassifier()</pre></div></div></div></div></div>"
      ],
      "text/plain": [
       "RandomForestClassifier()"
      ]
     },
     "execution_count": 49,
     "metadata": {},
     "output_type": "execute_result"
    }
   ],
   "source": [
    "# classification model\n",
    "random_forest_model = RandomForestClassifier()\n",
    "\n",
    "# enter training data into the class\n",
    "random_forest_model.fit(X_train_tfidf, y_train)"
   ]
  },
  {
   "cell_type": "code",
   "execution_count": 50,
   "id": "16745e95",
   "metadata": {},
   "outputs": [
    {
     "name": "stdout",
     "output_type": "stream",
     "text": [
      "Accuracy : 0.8482\n"
     ]
    }
   ],
   "source": [
    "# Array of predicted class labels.\n",
    "y_pred_rf = random_forest_model.predict(X_test_tfidf)\n",
    "\n",
    "# Compares the true labels with the predicted labels \n",
    "accuracy_test_rf = accuracy_score(y_test, y_pred_rf)\n",
    "\n",
    "print(\"Accuracy :\", accuracy_test_rf)"
   ]
  },
  {
   "cell_type": "code",
   "execution_count": 51,
   "id": "2c5c6af1",
   "metadata": {},
   "outputs": [
    {
     "data": {
      "image/png": "[encoded data removed]",
      "text/plain": [
       "<Figure size 800x600 with 1 Axes>"
      ]
     },
     "metadata": {},
     "output_type": "display_data"
    }
   ],
   "source": [
    "# Confusion Matrix\n",
    "conf_matrix_rf = confusion_matrix(y_test, y_pred_rf)\n",
    "\n",
    "# Plot\n",
    "plt.figure(figsize=(8, 6))\n",
    "sns.heatmap(conf_matrix_rf, annot=True, fmt='d', cmap='Blues', cbar=False)\n",
    "plt.title('Confusion Matrix for Random Forest Model')\n",
    "plt.xlabel('Predicted')\n",
    "plt.ylabel('Actual')\n",
    "plt.show()"
   ]
  },
  {
   "cell_type": "code",
   "execution_count": 52,
   "id": "358493a0",
   "metadata": {},
   "outputs": [
    {
     "name": "stdout",
     "output_type": "stream",
     "text": [
      "Precision : 0.850597609561753\n",
      "Recall : 0.8475585549821357\n",
      "F1-score : 0.8490753628952078\n"
     ]
    }
   ],
   "source": [
    "# Precision, recall, and F1-score\n",
    "precision_rf, recall_rf, f1_score_rf, _ = precision_recall_fscore_support(y_test, y_pred_rf, average='binary')\n",
    "\n",
    "print(\"Precision :\", precision_rf)\n",
    "print(\"Recall :\", recall_rf)\n",
    "print(\"F1-score :\", f1_score_rf)"
   ]
  },
  {
   "cell_type": "code",
   "execution_count": 53,
   "id": "08e345c9",
   "metadata": {},
   "outputs": [
    {
     "data": {
      "image/png": "[encoded data removed]",
      "text/plain": [
       "<Figure size 800x600 with 1 Axes>"
      ]
     },
     "metadata": {},
     "output_type": "display_data"
    }
   ],
   "source": [
    "# predicted probabilities of the positive class\n",
    "y_prob_rf = random_forest_model.predict_proba(X_test_tfidf)[:, 1]\n",
    "\n",
    "# Rates\n",
    "fpr_rf, tpr_rf, thresholds_rf = roc_curve(y_test, y_prob_rf)\n",
    "\n",
    "# Area under curve\n",
    "auc_rf = roc_auc_score(y_test, y_prob_rf)\n",
    "\n",
    "# Plot\n",
    "plt.figure(figsize=(8, 6))\n",
    "plt.plot(fpr_rf, tpr_rf, color='blue', lw=2, label='ROC curve (AUC = {:.2f})'.format(auc_rf))\n",
    "plt.plot([0, 1], [0, 1], color='gray', linestyle='--', lw=1)\n",
    "plt.xlim([0.0, 1.0])\n",
    "plt.ylim([0.0, 1.05])\n",
    "plt.xlabel('FPR')\n",
    "plt.ylabel('TPR')\n",
    "plt.title('ROC Curve')\n",
    "plt.grid(True)\n",
    "plt.show()"
   ]
  }
 ],
 "metadata": {
  "kernelspec": {
   "display_name": "Python 3 (ipykernel)",
   "language": "python",
   "name": "python3"
  },
  "language_info": {
   "codemirror_mode": {
    "name": "ipython",
    "version": 3
   },
   "file_extension": ".py",
   "mimetype": "text/x-python",
   "name": "python",
   "nbconvert_exporter": "python",
   "pygments_lexer": "ipython3",
   "version": "3.11.5"
  }
 },
 "nbformat": 4,
 "nbformat_minor": 5
}
