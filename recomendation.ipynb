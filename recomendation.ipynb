{
 "cells": [
  {
   "cell_type": "markdown",
   "id": "9f029619",
   "metadata": {},
   "source": [
    "<center>\n",
    "    \n",
    "# Week 9 Assignment\n",
    "    \n",
    "</center>"
   ]
  },
  {
   "cell_type": "markdown",
   "id": "0edacd0d",
   "metadata": {},
   "source": [
    "<div style=\"text-align: right; width: 15%; margin-left: auto;\">\n",
    "    \n",
    "Jon Cannaday <br>\n",
    "DSC 630 <br>\n",
    "Week 9 <br>\n",
    "7/31/2024  \n",
    "\n",
    "</div>\n"
   ]
  },
  {
   "cell_type": "markdown",
   "id": "5ab73eb2",
   "metadata": {},
   "source": [
    "# Movie Recommender System\n",
    "<br>\n",
    "\n",
    "<div style=\"width: 100%; border-bottom: 1px solid black;\"></div>"
   ]
  },
  {
   "cell_type": "markdown",
   "id": "26261025",
   "metadata": {},
   "source": [
    "We are creating a customer recomendation engine.\n",
    "\n",
    "Granularity will movie title.\n"
   ]
  },
  {
   "cell_type": "markdown",
   "id": "0e28faa8",
   "metadata": {},
   "source": [
    "## Extract and Transform Data"
   ]
  },
  {
   "cell_type": "markdown",
   "id": "e5bfa0f3",
   "metadata": {},
   "source": [
    "   - ### Libraries\n"
   ]
  },
  {
   "cell_type": "code",
   "execution_count": 1,
   "id": "96269a8c",
   "metadata": {},
   "outputs": [],
   "source": [
    "import warnings\n",
    "import numpy as np\n",
    "import pandas as pd\n",
    "warnings.filterwarnings(\"ignore\")"
   ]
  },
  {
   "cell_type": "markdown",
   "id": "afef0678",
   "metadata": {},
   "source": [
    "   - ### Data\n"
   ]
  },
  {
   "cell_type": "code",
   "execution_count": 2,
   "id": "e9d4b67b",
   "metadata": {},
   "outputs": [],
   "source": [
    "movies_path = ('C:\\\\Users\\\\Owner\\\\OneDrive\\\\Desktop\\\\DataScience\\\\'\n",
    "        '2024_Summer_Predictive_Analysis\\\\movies.csv'\n",
    "         )\n",
    "tags_path = ('C:\\\\Users\\\\Owner\\\\OneDrive\\\\Desktop\\\\DataScience\\\\'\n",
    "        '2024_Summer_Predictive_Analysis\\\\tags.csv'\n",
    "       )\n",
    "ratings_path = ('C:\\\\Users\\\\Owner\\\\OneDrive\\\\Desktop\\\\DataScience\\\\'\n",
    "        '2024_Summer_Predictive_Analysis\\\\ratings.csv'\n",
    "          )\n",
    "links_path = ('C:\\\\Users\\\\Owner\\\\OneDrive\\\\Desktop\\\\DataScience\\\\'\n",
    "        '2024_Summer_Predictive_Analysis\\\\links.csv'\n",
    "        )\n",
    "\n",
    "\n",
    "\n",
    "raw_movies = pd.DataFrame(pd.read_csv(movies_path))\n",
    "raw_tags = pd.DataFrame(pd.read_csv(tags_path))\n",
    "raw_ratings = pd.DataFrame(pd.read_csv(ratings_path))\n",
    "raw_links = pd.DataFrame(pd.read_csv(links_path))"
   ]
  },
  {
   "cell_type": "markdown",
   "id": "ad1f9d9b",
   "metadata": {},
   "source": [
    "   - ### Data Prep\n"
   ]
  },
  {
   "cell_type": "markdown",
   "id": "11786369",
   "metadata": {},
   "source": [
    "Create a usable movie Dimension. Get genres in 1NF."
   ]
  },
  {
   "cell_type": "code",
   "execution_count": 3,
   "id": "39fd3115",
   "metadata": {},
   "outputs": [
    {
     "data": {
      "text/html": [
       "<div>\n",
       "<style scoped>\n",
       "    .dataframe tbody tr th:only-of-type {\n",
       "        vertical-align: middle;\n",
       "    }\n",
       "\n",
       "    .dataframe tbody tr th {\n",
       "        vertical-align: top;\n",
       "    }\n",
       "\n",
       "    .dataframe thead th {\n",
       "        text-align: right;\n",
       "    }\n",
       "</style>\n",
       "<table border=\"1\" class=\"dataframe\">\n",
       "  <thead>\n",
       "    <tr style=\"text-align: right;\">\n",
       "      <th></th>\n",
       "      <th>movieId</th>\n",
       "      <th>title</th>\n",
       "      <th>genres</th>\n",
       "    </tr>\n",
       "  </thead>\n",
       "  <tbody>\n",
       "    <tr>\n",
       "      <th>0</th>\n",
       "      <td>1</td>\n",
       "      <td>Toy Story (1995)</td>\n",
       "      <td>Adventure|Animation|Children|Comedy|Fantasy</td>\n",
       "    </tr>\n",
       "    <tr>\n",
       "      <th>1</th>\n",
       "      <td>2</td>\n",
       "      <td>Jumanji (1995)</td>\n",
       "      <td>Adventure|Children|Fantasy</td>\n",
       "    </tr>\n",
       "    <tr>\n",
       "      <th>2</th>\n",
       "      <td>3</td>\n",
       "      <td>Grumpier Old Men (1995)</td>\n",
       "      <td>Comedy|Romance</td>\n",
       "    </tr>\n",
       "    <tr>\n",
       "      <th>3</th>\n",
       "      <td>4</td>\n",
       "      <td>Waiting to Exhale (1995)</td>\n",
       "      <td>Comedy|Drama|Romance</td>\n",
       "    </tr>\n",
       "    <tr>\n",
       "      <th>4</th>\n",
       "      <td>5</td>\n",
       "      <td>Father of the Bride Part II (1995)</td>\n",
       "      <td>Comedy</td>\n",
       "    </tr>\n",
       "    <tr>\n",
       "      <th>...</th>\n",
       "      <td>...</td>\n",
       "      <td>...</td>\n",
       "      <td>...</td>\n",
       "    </tr>\n",
       "    <tr>\n",
       "      <th>9737</th>\n",
       "      <td>193581</td>\n",
       "      <td>Black Butler: Book of the Atlantic (2017)</td>\n",
       "      <td>Action|Animation|Comedy|Fantasy</td>\n",
       "    </tr>\n",
       "    <tr>\n",
       "      <th>9738</th>\n",
       "      <td>193583</td>\n",
       "      <td>No Game No Life: Zero (2017)</td>\n",
       "      <td>Animation|Comedy|Fantasy</td>\n",
       "    </tr>\n",
       "    <tr>\n",
       "      <th>9739</th>\n",
       "      <td>193585</td>\n",
       "      <td>Flint (2017)</td>\n",
       "      <td>Drama</td>\n",
       "    </tr>\n",
       "    <tr>\n",
       "      <th>9740</th>\n",
       "      <td>193587</td>\n",
       "      <td>Bungo Stray Dogs: Dead Apple (2018)</td>\n",
       "      <td>Action|Animation</td>\n",
       "    </tr>\n",
       "    <tr>\n",
       "      <th>9741</th>\n",
       "      <td>193609</td>\n",
       "      <td>Andrew Dice Clay: Dice Rules (1991)</td>\n",
       "      <td>Comedy</td>\n",
       "    </tr>\n",
       "  </tbody>\n",
       "</table>\n",
       "<p>9742 rows × 3 columns</p>\n",
       "</div>"
      ],
      "text/plain": [
       "      movieId                                      title  \\\n",
       "0           1                           Toy Story (1995)   \n",
       "1           2                             Jumanji (1995)   \n",
       "2           3                    Grumpier Old Men (1995)   \n",
       "3           4                   Waiting to Exhale (1995)   \n",
       "4           5         Father of the Bride Part II (1995)   \n",
       "...       ...                                        ...   \n",
       "9737   193581  Black Butler: Book of the Atlantic (2017)   \n",
       "9738   193583               No Game No Life: Zero (2017)   \n",
       "9739   193585                               Flint (2017)   \n",
       "9740   193587        Bungo Stray Dogs: Dead Apple (2018)   \n",
       "9741   193609        Andrew Dice Clay: Dice Rules (1991)   \n",
       "\n",
       "                                           genres  \n",
       "0     Adventure|Animation|Children|Comedy|Fantasy  \n",
       "1                      Adventure|Children|Fantasy  \n",
       "2                                  Comedy|Romance  \n",
       "3                            Comedy|Drama|Romance  \n",
       "4                                          Comedy  \n",
       "...                                           ...  \n",
       "9737              Action|Animation|Comedy|Fantasy  \n",
       "9738                     Animation|Comedy|Fantasy  \n",
       "9739                                        Drama  \n",
       "9740                             Action|Animation  \n",
       "9741                                       Comedy  \n",
       "\n",
       "[9742 rows x 3 columns]"
      ]
     },
     "execution_count": 3,
     "metadata": {},
     "output_type": "execute_result"
    }
   ],
   "source": [
    "raw_movies"
   ]
  },
  {
   "cell_type": "markdown",
   "id": "dd379845",
   "metadata": {},
   "source": [
    "Will need to get the genre column in a more usable format. Getting all the genres spanned accross the columns will be the approach."
   ]
  },
  {
   "cell_type": "code",
   "execution_count": 4,
   "id": "b640137d",
   "metadata": {},
   "outputs": [],
   "source": [
    "# Split genres\n",
    "split_genres = raw_movies['genres'].str.get_dummies(sep='|')\n",
    "\n",
    "# Boolean\n",
    "for col in split_genres.columns:\n",
    "    split_genres[col] = split_genres[col].astype(bool)"
   ]
  },
  {
   "cell_type": "code",
   "execution_count": 5,
   "id": "2a08e1a8",
   "metadata": {},
   "outputs": [
    {
     "name": "stdout",
     "output_type": "stream",
     "text": [
      "<class 'pandas.core.frame.DataFrame'>\n",
      "RangeIndex: 9742 entries, 0 to 9741\n",
      "Data columns (total 22 columns):\n",
      " #   Column       Non-Null Count  Dtype \n",
      "---  ------       --------------  ----- \n",
      " 0   movieId      9742 non-null   int64 \n",
      " 1   title        9742 non-null   object\n",
      " 2   genres       9742 non-null   object\n",
      " 3   Action       9742 non-null   bool  \n",
      " 4   Adventure    9742 non-null   bool  \n",
      " 5   Animation    9742 non-null   bool  \n",
      " 6   Children     9742 non-null   bool  \n",
      " 7   Comedy       9742 non-null   bool  \n",
      " 8   Crime        9742 non-null   bool  \n",
      " 9   Documentary  9742 non-null   bool  \n",
      " 10  Drama        9742 non-null   bool  \n",
      " 11  Fantasy      9742 non-null   bool  \n",
      " 12  Film-Noir    9742 non-null   bool  \n",
      " 13  Horror       9742 non-null   bool  \n",
      " 14  IMAX         9742 non-null   bool  \n",
      " 15  Musical      9742 non-null   bool  \n",
      " 16  Mystery      9742 non-null   bool  \n",
      " 17  Romance      9742 non-null   bool  \n",
      " 18  Sci-Fi       9742 non-null   bool  \n",
      " 19  Thriller     9742 non-null   bool  \n",
      " 20  War          9742 non-null   bool  \n",
      " 21  Western      9742 non-null   bool  \n",
      "dtypes: bool(19), int64(1), object(2)\n",
      "memory usage: 409.2+ KB\n"
     ]
    }
   ],
   "source": [
    "clean_movies = pd.concat([raw_movies, split_genres], axis=1)\n",
    "clean_movies = clean_movies.drop(columns=['(no genres listed)'])\n",
    "clean_movies.info()"
   ]
  },
  {
   "cell_type": "markdown",
   "id": "d8a7bf97",
   "metadata": {},
   "source": [
    "User could create multiple tags for one movie so this will be the lowest level of granularity."
   ]
  },
  {
   "cell_type": "code",
   "execution_count": 6,
   "id": "12d5aabc",
   "metadata": {},
   "outputs": [
    {
     "data": {
      "text/html": [
       "<div>\n",
       "<style scoped>\n",
       "    .dataframe tbody tr th:only-of-type {\n",
       "        vertical-align: middle;\n",
       "    }\n",
       "\n",
       "    .dataframe tbody tr th {\n",
       "        vertical-align: top;\n",
       "    }\n",
       "\n",
       "    .dataframe thead th {\n",
       "        text-align: right;\n",
       "    }\n",
       "</style>\n",
       "<table border=\"1\" class=\"dataframe\">\n",
       "  <thead>\n",
       "    <tr style=\"text-align: right;\">\n",
       "      <th></th>\n",
       "      <th>userId</th>\n",
       "      <th>movieId</th>\n",
       "      <th>tag</th>\n",
       "      <th>timestamp</th>\n",
       "    </tr>\n",
       "  </thead>\n",
       "  <tbody>\n",
       "    <tr>\n",
       "      <th>0</th>\n",
       "      <td>2</td>\n",
       "      <td>60756</td>\n",
       "      <td>funny</td>\n",
       "      <td>1445714994</td>\n",
       "    </tr>\n",
       "    <tr>\n",
       "      <th>1</th>\n",
       "      <td>2</td>\n",
       "      <td>60756</td>\n",
       "      <td>Highly quotable</td>\n",
       "      <td>1445714996</td>\n",
       "    </tr>\n",
       "    <tr>\n",
       "      <th>2</th>\n",
       "      <td>2</td>\n",
       "      <td>60756</td>\n",
       "      <td>will ferrell</td>\n",
       "      <td>1445714992</td>\n",
       "    </tr>\n",
       "    <tr>\n",
       "      <th>3</th>\n",
       "      <td>2</td>\n",
       "      <td>89774</td>\n",
       "      <td>Boxing story</td>\n",
       "      <td>1445715207</td>\n",
       "    </tr>\n",
       "    <tr>\n",
       "      <th>4</th>\n",
       "      <td>2</td>\n",
       "      <td>89774</td>\n",
       "      <td>MMA</td>\n",
       "      <td>1445715200</td>\n",
       "    </tr>\n",
       "    <tr>\n",
       "      <th>...</th>\n",
       "      <td>...</td>\n",
       "      <td>...</td>\n",
       "      <td>...</td>\n",
       "      <td>...</td>\n",
       "    </tr>\n",
       "    <tr>\n",
       "      <th>3678</th>\n",
       "      <td>606</td>\n",
       "      <td>7382</td>\n",
       "      <td>for katie</td>\n",
       "      <td>1171234019</td>\n",
       "    </tr>\n",
       "    <tr>\n",
       "      <th>3679</th>\n",
       "      <td>606</td>\n",
       "      <td>7936</td>\n",
       "      <td>austere</td>\n",
       "      <td>1173392334</td>\n",
       "    </tr>\n",
       "    <tr>\n",
       "      <th>3680</th>\n",
       "      <td>610</td>\n",
       "      <td>3265</td>\n",
       "      <td>gun fu</td>\n",
       "      <td>1493843984</td>\n",
       "    </tr>\n",
       "    <tr>\n",
       "      <th>3681</th>\n",
       "      <td>610</td>\n",
       "      <td>3265</td>\n",
       "      <td>heroic bloodshed</td>\n",
       "      <td>1493843978</td>\n",
       "    </tr>\n",
       "    <tr>\n",
       "      <th>3682</th>\n",
       "      <td>610</td>\n",
       "      <td>168248</td>\n",
       "      <td>Heroic Bloodshed</td>\n",
       "      <td>1493844270</td>\n",
       "    </tr>\n",
       "  </tbody>\n",
       "</table>\n",
       "<p>3683 rows × 4 columns</p>\n",
       "</div>"
      ],
      "text/plain": [
       "      userId  movieId               tag   timestamp\n",
       "0          2    60756             funny  1445714994\n",
       "1          2    60756   Highly quotable  1445714996\n",
       "2          2    60756      will ferrell  1445714992\n",
       "3          2    89774      Boxing story  1445715207\n",
       "4          2    89774               MMA  1445715200\n",
       "...      ...      ...               ...         ...\n",
       "3678     606     7382         for katie  1171234019\n",
       "3679     606     7936           austere  1173392334\n",
       "3680     610     3265            gun fu  1493843984\n",
       "3681     610     3265  heroic bloodshed  1493843978\n",
       "3682     610   168248  Heroic Bloodshed  1493844270\n",
       "\n",
       "[3683 rows x 4 columns]"
      ]
     },
     "execution_count": 6,
     "metadata": {},
     "output_type": "execute_result"
    }
   ],
   "source": [
    "raw_tags"
   ]
  },
  {
   "cell_type": "markdown",
   "id": "a119b4b5",
   "metadata": {},
   "source": [
    "We will drop the timestamp column because it does not provide us with much information."
   ]
  },
  {
   "cell_type": "code",
   "execution_count": 7,
   "id": "69018e78",
   "metadata": {},
   "outputs": [],
   "source": [
    "clean_tags = raw_tags.drop(columns=['timestamp'])"
   ]
  },
  {
   "cell_type": "markdown",
   "id": "4fb6b20b",
   "metadata": {},
   "source": [
    "we will drop the timestamp again because it does not prodive us with useful information. \n",
    "And force the rating to be a whole nmber to be used as a boolean dummy column"
   ]
  },
  {
   "cell_type": "code",
   "execution_count": 8,
   "id": "971858f5",
   "metadata": {},
   "outputs": [
    {
     "data": {
      "text/html": [
       "<div>\n",
       "<style scoped>\n",
       "    .dataframe tbody tr th:only-of-type {\n",
       "        vertical-align: middle;\n",
       "    }\n",
       "\n",
       "    .dataframe tbody tr th {\n",
       "        vertical-align: top;\n",
       "    }\n",
       "\n",
       "    .dataframe thead th {\n",
       "        text-align: right;\n",
       "    }\n",
       "</style>\n",
       "<table border=\"1\" class=\"dataframe\">\n",
       "  <thead>\n",
       "    <tr style=\"text-align: right;\">\n",
       "      <th></th>\n",
       "      <th>userId</th>\n",
       "      <th>movieId</th>\n",
       "      <th>rating</th>\n",
       "      <th>timestamp</th>\n",
       "    </tr>\n",
       "  </thead>\n",
       "  <tbody>\n",
       "    <tr>\n",
       "      <th>0</th>\n",
       "      <td>1</td>\n",
       "      <td>1</td>\n",
       "      <td>4.0</td>\n",
       "      <td>964982703</td>\n",
       "    </tr>\n",
       "    <tr>\n",
       "      <th>1</th>\n",
       "      <td>1</td>\n",
       "      <td>3</td>\n",
       "      <td>4.0</td>\n",
       "      <td>964981247</td>\n",
       "    </tr>\n",
       "    <tr>\n",
       "      <th>2</th>\n",
       "      <td>1</td>\n",
       "      <td>6</td>\n",
       "      <td>4.0</td>\n",
       "      <td>964982224</td>\n",
       "    </tr>\n",
       "    <tr>\n",
       "      <th>3</th>\n",
       "      <td>1</td>\n",
       "      <td>47</td>\n",
       "      <td>5.0</td>\n",
       "      <td>964983815</td>\n",
       "    </tr>\n",
       "    <tr>\n",
       "      <th>4</th>\n",
       "      <td>1</td>\n",
       "      <td>50</td>\n",
       "      <td>5.0</td>\n",
       "      <td>964982931</td>\n",
       "    </tr>\n",
       "    <tr>\n",
       "      <th>...</th>\n",
       "      <td>...</td>\n",
       "      <td>...</td>\n",
       "      <td>...</td>\n",
       "      <td>...</td>\n",
       "    </tr>\n",
       "    <tr>\n",
       "      <th>100831</th>\n",
       "      <td>610</td>\n",
       "      <td>166534</td>\n",
       "      <td>4.0</td>\n",
       "      <td>1493848402</td>\n",
       "    </tr>\n",
       "    <tr>\n",
       "      <th>100832</th>\n",
       "      <td>610</td>\n",
       "      <td>168248</td>\n",
       "      <td>5.0</td>\n",
       "      <td>1493850091</td>\n",
       "    </tr>\n",
       "    <tr>\n",
       "      <th>100833</th>\n",
       "      <td>610</td>\n",
       "      <td>168250</td>\n",
       "      <td>5.0</td>\n",
       "      <td>1494273047</td>\n",
       "    </tr>\n",
       "    <tr>\n",
       "      <th>100834</th>\n",
       "      <td>610</td>\n",
       "      <td>168252</td>\n",
       "      <td>5.0</td>\n",
       "      <td>1493846352</td>\n",
       "    </tr>\n",
       "    <tr>\n",
       "      <th>100835</th>\n",
       "      <td>610</td>\n",
       "      <td>170875</td>\n",
       "      <td>3.0</td>\n",
       "      <td>1493846415</td>\n",
       "    </tr>\n",
       "  </tbody>\n",
       "</table>\n",
       "<p>100836 rows × 4 columns</p>\n",
       "</div>"
      ],
      "text/plain": [
       "        userId  movieId  rating   timestamp\n",
       "0            1        1     4.0   964982703\n",
       "1            1        3     4.0   964981247\n",
       "2            1        6     4.0   964982224\n",
       "3            1       47     5.0   964983815\n",
       "4            1       50     5.0   964982931\n",
       "...        ...      ...     ...         ...\n",
       "100831     610   166534     4.0  1493848402\n",
       "100832     610   168248     5.0  1493850091\n",
       "100833     610   168250     5.0  1494273047\n",
       "100834     610   168252     5.0  1493846352\n",
       "100835     610   170875     3.0  1493846415\n",
       "\n",
       "[100836 rows x 4 columns]"
      ]
     },
     "execution_count": 8,
     "metadata": {},
     "output_type": "execute_result"
    }
   ],
   "source": [
    "raw_ratings"
   ]
  },
  {
   "cell_type": "code",
   "execution_count": 9,
   "id": "ba3413b6",
   "metadata": {},
   "outputs": [],
   "source": [
    "raw_ratings['rating'] = raw_ratings['rating'].round(0).astype(int)"
   ]
  },
  {
   "cell_type": "code",
   "execution_count": 10,
   "id": "90c85b75",
   "metadata": {},
   "outputs": [],
   "source": [
    "raw_ratings['rating'] = raw_ratings['rating'].astype('category')"
   ]
  },
  {
   "cell_type": "code",
   "execution_count": 11,
   "id": "376b37c7",
   "metadata": {},
   "outputs": [],
   "source": [
    "rating_dummies = pd.get_dummies(raw_ratings['rating'], prefix='rating')\n",
    "\n",
    "for col in rating_dummies.columns:\n",
    "    rating_dummies[col] = rating_dummies[col].astype(bool)"
   ]
  },
  {
   "cell_type": "code",
   "execution_count": 12,
   "id": "2685d076",
   "metadata": {},
   "outputs": [],
   "source": [
    "raw_ratings = pd.concat([raw_ratings, rating_dummies], axis=1)\n",
    "clean_ratings = raw_ratings.drop(columns=['timestamp'])"
   ]
  },
  {
   "cell_type": "code",
   "execution_count": 13,
   "id": "b0fc4a47",
   "metadata": {},
   "outputs": [
    {
     "name": "stdout",
     "output_type": "stream",
     "text": [
      "<class 'pandas.core.frame.DataFrame'>\n",
      "RangeIndex: 100836 entries, 0 to 100835\n",
      "Data columns (total 9 columns):\n",
      " #   Column    Non-Null Count   Dtype   \n",
      "---  ------    --------------   -----   \n",
      " 0   userId    100836 non-null  int64   \n",
      " 1   movieId   100836 non-null  int64   \n",
      " 2   rating    100836 non-null  category\n",
      " 3   rating_0  100836 non-null  bool    \n",
      " 4   rating_1  100836 non-null  bool    \n",
      " 5   rating_2  100836 non-null  bool    \n",
      " 6   rating_3  100836 non-null  bool    \n",
      " 7   rating_4  100836 non-null  bool    \n",
      " 8   rating_5  100836 non-null  bool    \n",
      "dtypes: bool(6), category(1), int64(2)\n",
      "memory usage: 2.2 MB\n"
     ]
    }
   ],
   "source": [
    "clean_ratings.info()"
   ]
  },
  {
   "cell_type": "markdown",
   "id": "4e19f951",
   "metadata": {},
   "source": [
    "This table will be used if we need to tie into other movie databses and bring in more information. We will ignore this table all together."
   ]
  },
  {
   "cell_type": "code",
   "execution_count": 14,
   "id": "1f93cdbd",
   "metadata": {},
   "outputs": [
    {
     "data": {
      "text/html": [
       "<div>\n",
       "<style scoped>\n",
       "    .dataframe tbody tr th:only-of-type {\n",
       "        vertical-align: middle;\n",
       "    }\n",
       "\n",
       "    .dataframe tbody tr th {\n",
       "        vertical-align: top;\n",
       "    }\n",
       "\n",
       "    .dataframe thead th {\n",
       "        text-align: right;\n",
       "    }\n",
       "</style>\n",
       "<table border=\"1\" class=\"dataframe\">\n",
       "  <thead>\n",
       "    <tr style=\"text-align: right;\">\n",
       "      <th></th>\n",
       "      <th>movieId</th>\n",
       "      <th>imdbId</th>\n",
       "      <th>tmdbId</th>\n",
       "    </tr>\n",
       "  </thead>\n",
       "  <tbody>\n",
       "    <tr>\n",
       "      <th>0</th>\n",
       "      <td>1</td>\n",
       "      <td>114709</td>\n",
       "      <td>862.0</td>\n",
       "    </tr>\n",
       "    <tr>\n",
       "      <th>1</th>\n",
       "      <td>2</td>\n",
       "      <td>113497</td>\n",
       "      <td>8844.0</td>\n",
       "    </tr>\n",
       "    <tr>\n",
       "      <th>2</th>\n",
       "      <td>3</td>\n",
       "      <td>113228</td>\n",
       "      <td>15602.0</td>\n",
       "    </tr>\n",
       "    <tr>\n",
       "      <th>3</th>\n",
       "      <td>4</td>\n",
       "      <td>114885</td>\n",
       "      <td>31357.0</td>\n",
       "    </tr>\n",
       "    <tr>\n",
       "      <th>4</th>\n",
       "      <td>5</td>\n",
       "      <td>113041</td>\n",
       "      <td>11862.0</td>\n",
       "    </tr>\n",
       "    <tr>\n",
       "      <th>...</th>\n",
       "      <td>...</td>\n",
       "      <td>...</td>\n",
       "      <td>...</td>\n",
       "    </tr>\n",
       "    <tr>\n",
       "      <th>9737</th>\n",
       "      <td>193581</td>\n",
       "      <td>5476944</td>\n",
       "      <td>432131.0</td>\n",
       "    </tr>\n",
       "    <tr>\n",
       "      <th>9738</th>\n",
       "      <td>193583</td>\n",
       "      <td>5914996</td>\n",
       "      <td>445030.0</td>\n",
       "    </tr>\n",
       "    <tr>\n",
       "      <th>9739</th>\n",
       "      <td>193585</td>\n",
       "      <td>6397426</td>\n",
       "      <td>479308.0</td>\n",
       "    </tr>\n",
       "    <tr>\n",
       "      <th>9740</th>\n",
       "      <td>193587</td>\n",
       "      <td>8391976</td>\n",
       "      <td>483455.0</td>\n",
       "    </tr>\n",
       "    <tr>\n",
       "      <th>9741</th>\n",
       "      <td>193609</td>\n",
       "      <td>101726</td>\n",
       "      <td>37891.0</td>\n",
       "    </tr>\n",
       "  </tbody>\n",
       "</table>\n",
       "<p>9742 rows × 3 columns</p>\n",
       "</div>"
      ],
      "text/plain": [
       "      movieId   imdbId    tmdbId\n",
       "0           1   114709     862.0\n",
       "1           2   113497    8844.0\n",
       "2           3   113228   15602.0\n",
       "3           4   114885   31357.0\n",
       "4           5   113041   11862.0\n",
       "...       ...      ...       ...\n",
       "9737   193581  5476944  432131.0\n",
       "9738   193583  5914996  445030.0\n",
       "9739   193585  6397426  479308.0\n",
       "9740   193587  8391976  483455.0\n",
       "9741   193609   101726   37891.0\n",
       "\n",
       "[9742 rows x 3 columns]"
      ]
     },
     "execution_count": 14,
     "metadata": {},
     "output_type": "execute_result"
    }
   ],
   "source": [
    "raw_links"
   ]
  },
  {
   "cell_type": "markdown",
   "id": "62bd7216",
   "metadata": {},
   "source": [
    "   - ### Data Engineering\n"
   ]
  },
  {
   "cell_type": "markdown",
   "id": "c7defb29",
   "metadata": {},
   "source": [
    "Plan to stitch together\n",
    "\n",
    "using raw_tags   \n",
    "    Left Join raw_ratings useing the movieId and userId\t for both tables \n",
    "    retrieve from raw_ratings the rating column\t\n",
    "\n",
    "\n",
    "using raw_tags \n",
    "    left join  raw_movies useing the movieId on both tables\n",
    "    retrieve from raw_movies every column except the movieId\n",
    "\n",
    "\n",
    "\n",
    "The final table should have the tag rom raw_tag, the rating from raw_rating, and all the columns in raw_movie excluding the movieid\n"
   ]
  },
  {
   "cell_type": "code",
   "execution_count": 15,
   "id": "bec005f0",
   "metadata": {},
   "outputs": [],
   "source": [
    "merged_data = pd.merge(clean_tags, clean_ratings, on=['movieId', 'userId'], how='left')\n",
    "raw_model_data = pd.merge(merged_data, clean_movies, on='movieId', how='left')"
   ]
  },
  {
   "cell_type": "code",
   "execution_count": 17,
   "id": "2cce729a",
   "metadata": {},
   "outputs": [],
   "source": [
    "# Drop the specified columns\n",
    "raw_model_data = raw_model_data.drop(columns=['userId', 'movieId', 'tag', 'rating', 'genres'])"
   ]
  },
  {
   "cell_type": "code",
   "execution_count": 38,
   "id": "e4ad13d1",
   "metadata": {},
   "outputs": [],
   "source": [
    "clean_model_data = raw_model_data.groupby('title').agg(lambda x: x.mode().iloc[0])"
   ]
  },
  {
   "cell_type": "code",
   "execution_count": 39,
   "id": "5403e41f",
   "metadata": {},
   "outputs": [
    {
     "name": "stdout",
     "output_type": "stream",
     "text": [
      "<class 'pandas.core.frame.DataFrame'>\n",
      "Index: 1572 entries, (500) Days of Summer (2009) to eXistenZ (1999)\n",
      "Data columns (total 25 columns):\n",
      " #   Column       Non-Null Count  Dtype\n",
      "---  ------       --------------  -----\n",
      " 0   rating_0     1572 non-null   bool \n",
      " 1   rating_1     1572 non-null   bool \n",
      " 2   rating_2     1572 non-null   bool \n",
      " 3   rating_3     1572 non-null   bool \n",
      " 4   rating_4     1572 non-null   bool \n",
      " 5   rating_5     1572 non-null   bool \n",
      " 6   Action       1572 non-null   bool \n",
      " 7   Adventure    1572 non-null   bool \n",
      " 8   Animation    1572 non-null   bool \n",
      " 9   Children     1572 non-null   bool \n",
      " 10  Comedy       1572 non-null   bool \n",
      " 11  Crime        1572 non-null   bool \n",
      " 12  Documentary  1572 non-null   bool \n",
      " 13  Drama        1572 non-null   bool \n",
      " 14  Fantasy      1572 non-null   bool \n",
      " 15  Film-Noir    1572 non-null   bool \n",
      " 16  Horror       1572 non-null   bool \n",
      " 17  IMAX         1572 non-null   bool \n",
      " 18  Musical      1572 non-null   bool \n",
      " 19  Mystery      1572 non-null   bool \n",
      " 20  Romance      1572 non-null   bool \n",
      " 21  Sci-Fi       1572 non-null   bool \n",
      " 22  Thriller     1572 non-null   bool \n",
      " 23  War          1572 non-null   bool \n",
      " 24  Western      1572 non-null   bool \n",
      "dtypes: bool(25)\n",
      "memory usage: 50.7+ KB\n"
     ]
    }
   ],
   "source": [
    "clean_model_data.info()"
   ]
  },
  {
   "cell_type": "markdown",
   "id": "e63c6e80",
   "metadata": {},
   "source": [
    "## Create Model"
   ]
  },
  {
   "cell_type": "markdown",
   "id": "439e0e5e",
   "metadata": {},
   "source": [
    "   - ### Process\n"
   ]
  },
  {
   "cell_type": "markdown",
   "id": "42f153fe",
   "metadata": {},
   "source": [
    "User enters movie Title\n",
    "\n",
    "Key characteristics are extracted from the list and used as a fingerprint.\n",
    "\n",
    "The title is removed from the original list.\n",
    "\n",
    "The key characteristics of the title are matched with the data table.\n",
    "\n",
    "The percentage is calculated.\n",
    "\n",
    "The resulting data set is sorted and display top 10 highest matches.\n"
   ]
  },
  {
   "cell_type": "code",
   "execution_count": 53,
   "id": "34d286a6",
   "metadata": {},
   "outputs": [
    {
     "data": {
      "text/html": [
       "<div>\n",
       "<style scoped>\n",
       "    .dataframe tbody tr th:only-of-type {\n",
       "        vertical-align: middle;\n",
       "    }\n",
       "\n",
       "    .dataframe tbody tr th {\n",
       "        vertical-align: top;\n",
       "    }\n",
       "\n",
       "    .dataframe thead th {\n",
       "        text-align: right;\n",
       "    }\n",
       "</style>\n",
       "<table border=\"1\" class=\"dataframe\">\n",
       "  <thead>\n",
       "    <tr style=\"text-align: right;\">\n",
       "      <th></th>\n",
       "      <th>Match Score</th>\n",
       "    </tr>\n",
       "    <tr>\n",
       "      <th>title</th>\n",
       "      <th></th>\n",
       "    </tr>\n",
       "  </thead>\n",
       "  <tbody>\n",
       "    <tr>\n",
       "      <th>(500) Days of Summer (2009)</th>\n",
       "      <td>0.5</td>\n",
       "    </tr>\n",
       "    <tr>\n",
       "      <th>Oliver Twist (1948)</th>\n",
       "      <td>0.5</td>\n",
       "    </tr>\n",
       "    <tr>\n",
       "      <th>Outsiders, The (1983)</th>\n",
       "      <td>0.5</td>\n",
       "    </tr>\n",
       "    <tr>\n",
       "      <th>Out of the Past (1947)</th>\n",
       "      <td>0.5</td>\n",
       "    </tr>\n",
       "    <tr>\n",
       "      <th>Out of Sight (1998)</th>\n",
       "      <td>0.5</td>\n",
       "    </tr>\n",
       "    <tr>\n",
       "      <th>Out of Africa (1985)</th>\n",
       "      <td>0.5</td>\n",
       "    </tr>\n",
       "    <tr>\n",
       "      <th>Our Hospitality (1923)</th>\n",
       "      <td>0.5</td>\n",
       "    </tr>\n",
       "    <tr>\n",
       "      <th>Other Sister, The (1999)</th>\n",
       "      <td>0.5</td>\n",
       "    </tr>\n",
       "    <tr>\n",
       "      <th>Othello (1995)</th>\n",
       "      <td>0.5</td>\n",
       "    </tr>\n",
       "    <tr>\n",
       "      <th>Oscar and Lucinda (a.k.a. Oscar &amp; Lucinda) (1997)</th>\n",
       "      <td>0.5</td>\n",
       "    </tr>\n",
       "  </tbody>\n",
       "</table>\n",
       "</div>"
      ],
      "text/plain": [
       "                                                   Match Score\n",
       "title                                                         \n",
       "(500) Days of Summer (2009)                                0.5\n",
       "Oliver Twist (1948)                                        0.5\n",
       "Outsiders, The (1983)                                      0.5\n",
       "Out of the Past (1947)                                     0.5\n",
       "Out of Sight (1998)                                        0.5\n",
       "Out of Africa (1985)                                       0.5\n",
       "Our Hospitality (1923)                                     0.5\n",
       "Other Sister, The (1999)                                   0.5\n",
       "Othello (1995)                                             0.5\n",
       "Oscar and Lucinda (a.k.a. Oscar & Lucinda) (1997)          0.5"
      ]
     },
     "execution_count": 53,
     "metadata": {},
     "output_type": "execute_result"
    }
   ],
   "source": [
    "# error catching will be put into final production. \n",
    "# this gets the point accross.\n",
    "movie_title = \"Step Brothers (2008)\"  # replace with your movie title\n",
    "\n",
    "movie_record = clean_model_data.loc[movie_title]\n",
    "\n",
    "# Exclude the current movie from the DataFrame\n",
    "movie_list = clean_model_data.drop(movie_title)\n",
    "\n",
    "# Calculate the match score\n",
    "match = np.dot(movie_list.values, movie_record.values) / np.sum(movie_record.values)\n",
    "\n",
    "# Create a DataFrame for easier manipulation\n",
    "match_df = pd.DataFrame(match, index=movie_list.index, columns=['Match Score'])\n",
    "\n",
    "# Sort the DataFrame in descending order of match score\n",
    "sorted_match_df = match_df.sort_values(by='Match Score', ascending=False)\n",
    "\n",
    "sorted_match_df.head(10)"
   ]
  },
  {
   "cell_type": "markdown",
   "id": "f43dd65f",
   "metadata": {},
   "source": [
    "## Write up"
   ]
  },
  {
   "cell_type": "markdown",
   "id": "0a51ccf4",
   "metadata": {},
   "source": [
    "Data Extraction and Description\n",
    "Our dataset is composed of four main components: movies, tags, ratings, and links.\n",
    "\n",
    "Movies\n",
    "The movies dataset is the core of our data. It is composed of three columns: id, title, and genre. The primary key is movieId. The genre column was split by the pipe character, and then pivoted along the columns to display boolean output. The granularity of this dataset is at the single movie level.\n",
    "\n",
    "Tags\n",
    "The tags dataset allows users to create hashtags on social media, providing brief characteristics of what the movie is about. The primary key is a combination of movieId and userId.\n",
    "\n",
    "Ratings\n",
    "The ratings dataset allows users to rate a movie from 1 to 5. We treated the rating value as an ordinal category by forcing it to be an integer. The primary key is a combination of movieId and userId.\n",
    "\n",
    "Links\n",
    "The links dataset serves as a bridge that can be used to tie in different database tables.\n"
   ]
  },
  {
   "cell_type": "markdown",
   "id": "6548539c",
   "metadata": {},
   "source": [
    "Data Integration and Aggregation\n",
    "We integrated the datasets from the lowest level of granularity to the highest, rolling up the data to bring the granularity back to the movie level. This aggregated data would be used for the model. We chose to aggrigate and group the data on movie and use the mode of each boolean column to delive a result."
   ]
  },
  {
   "cell_type": "markdown",
   "id": "c2386243",
   "metadata": {},
   "source": [
    "Model Implementation\n",
    "The actual model follows the following process:\n",
    "\n",
    "\n",
    "The user enters a movie title.<br>\n",
    "That movie title is extracted formt the list and contains within itself a \"fingerprint\".\n",
    "This fingerprint is saved and the removed from the original group.\n",
    "The title's fingerprint is matched with the other titles fingerprints.\n",
    "We calculated a match percentage based on the titles numer of 1's and the matching hits.\n",
    "The resulting data set is sorted and the top 10 highest matches are displayed.\n",
    "We leveraged the boolean values from the data preparation and basic arithmetic to derive similar titles based on the fingerprint of the title in question.\n",
    "This approach allows us to provide users with movie recommendations that align closely with their input title."
   ]
  },
  {
   "cell_type": "markdown",
   "id": "e82ab4c8",
   "metadata": {},
   "source": []
  }
 ],
 "metadata": {
  "kernelspec": {
   "display_name": "Python 3 (ipykernel)",
   "language": "python",
   "name": "python3"
  },
  "language_info": {
   "codemirror_mode": {
    "name": "ipython",
    "version": 3
   },
   "file_extension": ".py",
   "mimetype": "text/x-python",
   "name": "python",
   "nbconvert_exporter": "python",
   "pygments_lexer": "ipython3",
   "version": "3.11.5"
  }
 },
 "nbformat": 4,
 "nbformat_minor": 5
}
